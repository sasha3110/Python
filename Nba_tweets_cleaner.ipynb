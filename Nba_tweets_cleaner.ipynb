{
  "nbformat": 4,
  "nbformat_minor": 0,
  "metadata": {
    "colab": {
      "name": "Nba_tweets_cleaner.ipynb",
      "version": "0.3.2",
      "provenance": [],
      "collapsed_sections": []
    },
    "kernelspec": {
      "name": "python3",
      "display_name": "Python 3"
    }
  },
  "cells": [
    {
      "metadata": {
        "id": "qRd_ykehGEfh",
        "colab_type": "code",
        "colab": {}
      },
      "cell_type": "code",
      "source": [
        "from google.colab import drive\n",
        "drive.mount('/content/drive/')"
      ],
      "execution_count": 0,
      "outputs": []
    },
    {
      "metadata": {
        "id": "AsdIQQpbGcKe",
        "colab_type": "code",
        "colab": {}
      },
      "cell_type": "code",
      "source": [
        "import os\n",
        "os.chdir('/content/drive/My Drive/ML')"
      ],
      "execution_count": 0,
      "outputs": []
    },
    {
      "metadata": {
        "id": "1FKBlTRYGnH4",
        "colab_type": "code",
        "colab": {}
      },
      "cell_type": "code",
      "source": [
        "import pandas as pd\n",
        "from datetime import datetime"
      ],
      "execution_count": 0,
      "outputs": []
    },
    {
      "metadata": {
        "id": "cP0KlgOxGz1x",
        "colab_type": "code",
        "outputId": "d682b687-da42-4e2d-8646-473a4e590b74",
        "colab": {
          "base_uri": "https://localhost:8080/",
          "height": 203
        }
      },
      "cell_type": "code",
      "source": [
        "nba_df = pd.read_csv('nba.tsv', header=None, sep='\\t', names=['text', 'date'])\n",
        "nba_df.head()"
      ],
      "execution_count": 0,
      "outputs": [
        {
          "output_type": "execute_result",
          "data": {
            "text/html": [
              "<div>\n",
              "<style scoped>\n",
              "    .dataframe tbody tr th:only-of-type {\n",
              "        vertical-align: middle;\n",
              "    }\n",
              "\n",
              "    .dataframe tbody tr th {\n",
              "        vertical-align: top;\n",
              "    }\n",
              "\n",
              "    .dataframe thead th {\n",
              "        text-align: right;\n",
              "    }\n",
              "</style>\n",
              "<table border=\"1\" class=\"dataframe\">\n",
              "  <thead>\n",
              "    <tr style=\"text-align: right;\">\n",
              "      <th></th>\n",
              "      <th>text</th>\n",
              "      <th>date</th>\n",
              "    </tr>\n",
              "  </thead>\n",
              "  <tbody>\n",
              "    <tr>\n",
              "      <th>0</th>\n",
              "      <td>You don’t say</td>\n",
              "      <td>1.541277e+09</td>\n",
              "    </tr>\n",
              "    <tr>\n",
              "      <th>1</th>\n",
              "      <td>Joel Embiid out here clowning on everyone. Bes...</td>\n",
              "      <td>1.541277e+09</td>\n",
              "    </tr>\n",
              "    <tr>\n",
              "      <th>2</th>\n",
              "      <td>I hope you talking about centers ?</td>\n",
              "      <td>1.541277e+09</td>\n",
              "    </tr>\n",
              "    <tr>\n",
              "      <th>3</th>\n",
              "      <td>He staying lmao</td>\n",
              "      <td>1.541277e+09</td>\n",
              "    </tr>\n",
              "    <tr>\n",
              "      <th>4</th>\n",
              "      <td>EMBIID OWNS PROPERTY IN ANDRE DRUMMONDS HEAD.</td>\n",
              "      <td>1.541277e+09</td>\n",
              "    </tr>\n",
              "  </tbody>\n",
              "</table>\n",
              "</div>"
            ],
            "text/plain": [
              "                                                text          date\n",
              "0                                      You don’t say  1.541277e+09\n",
              "1  Joel Embiid out here clowning on everyone. Bes...  1.541277e+09\n",
              "2                 I hope you talking about centers ?  1.541277e+09\n",
              "3                                    He staying lmao  1.541277e+09\n",
              "4      EMBIID OWNS PROPERTY IN ANDRE DRUMMONDS HEAD.  1.541277e+09"
            ]
          },
          "metadata": {
            "tags": []
          },
          "execution_count": 37
        }
      ]
    },
    {
      "metadata": {
        "id": "GOorjNxnOHrv",
        "colab_type": "text"
      },
      "cell_type": "markdown",
      "source": [
        "# Cleaning dates\n",
        "\n",
        "Filling empty values in Date column with interpolate method and parsing dates"
      ]
    },
    {
      "metadata": {
        "id": "BND6PLzEJ4_8",
        "colab_type": "code",
        "colab": {}
      },
      "cell_type": "code",
      "source": [
        "nba_df['date'].interpolate(inplace=True)\n",
        "nba_df['date'] = pd.to_datetime(nba_df['date'], unit='s')                         #nba_df['date'].apply(datetime.fromtimestamp)\n"
      ],
      "execution_count": 0,
      "outputs": []
    },
    {
      "metadata": {
        "id": "hsEEHdC9jAJH",
        "colab_type": "code",
        "outputId": "982cdc22-94e9-41b4-eac8-8de0f5f79be7",
        "colab": {
          "base_uri": "https://localhost:8080/",
          "height": 203
        }
      },
      "cell_type": "code",
      "source": [
        "nba_df.head()"
      ],
      "execution_count": 0,
      "outputs": [
        {
          "output_type": "execute_result",
          "data": {
            "text/html": [
              "<div>\n",
              "<style scoped>\n",
              "    .dataframe tbody tr th:only-of-type {\n",
              "        vertical-align: middle;\n",
              "    }\n",
              "\n",
              "    .dataframe tbody tr th {\n",
              "        vertical-align: top;\n",
              "    }\n",
              "\n",
              "    .dataframe thead th {\n",
              "        text-align: right;\n",
              "    }\n",
              "</style>\n",
              "<table border=\"1\" class=\"dataframe\">\n",
              "  <thead>\n",
              "    <tr style=\"text-align: right;\">\n",
              "      <th></th>\n",
              "      <th>text</th>\n",
              "      <th>date</th>\n",
              "    </tr>\n",
              "  </thead>\n",
              "  <tbody>\n",
              "    <tr>\n",
              "      <th>0</th>\n",
              "      <td>You don’t say</td>\n",
              "      <td>2018-11-03 20:36:51</td>\n",
              "    </tr>\n",
              "    <tr>\n",
              "      <th>1</th>\n",
              "      <td>Joel Embiid out here clowning on everyone. Bes...</td>\n",
              "      <td>2018-11-03 20:36:53</td>\n",
              "    </tr>\n",
              "    <tr>\n",
              "      <th>2</th>\n",
              "      <td>I hope you talking about centers ?</td>\n",
              "      <td>2018-11-03 20:36:53</td>\n",
              "    </tr>\n",
              "    <tr>\n",
              "      <th>3</th>\n",
              "      <td>He staying lmao</td>\n",
              "      <td>2018-11-03 20:36:59</td>\n",
              "    </tr>\n",
              "    <tr>\n",
              "      <th>4</th>\n",
              "      <td>EMBIID OWNS PROPERTY IN ANDRE DRUMMONDS HEAD.</td>\n",
              "      <td>2018-11-03 20:38:05</td>\n",
              "    </tr>\n",
              "  </tbody>\n",
              "</table>\n",
              "</div>"
            ],
            "text/plain": [
              "                                                text                date\n",
              "0                                      You don’t say 2018-11-03 20:36:51\n",
              "1  Joel Embiid out here clowning on everyone. Bes... 2018-11-03 20:36:53\n",
              "2                 I hope you talking about centers ? 2018-11-03 20:36:53\n",
              "3                                    He staying lmao 2018-11-03 20:36:59\n",
              "4      EMBIID OWNS PROPERTY IN ANDRE DRUMMONDS HEAD. 2018-11-03 20:38:05"
            ]
          },
          "metadata": {
            "tags": []
          },
          "execution_count": 41
        }
      ]
    },
    {
      "metadata": {
        "id": "FzPXycGujWQB",
        "colab_type": "code",
        "outputId": "a0c5e1b4-295e-47c0-d246-d0db43bdb131",
        "colab": {
          "base_uri": "https://localhost:8080/",
          "height": 34
        }
      },
      "cell_type": "code",
      "source": [
        "nba_df.shape"
      ],
      "execution_count": 0,
      "outputs": [
        {
          "output_type": "execute_result",
          "data": {
            "text/plain": [
              "(34648, 2)"
            ]
          },
          "metadata": {
            "tags": []
          },
          "execution_count": 42
        }
      ]
    },
    {
      "metadata": {
        "id": "nEAl-5kmpDmE",
        "colab_type": "text"
      },
      "cell_type": "markdown",
      "source": [
        "# Cleaning text\n",
        "Removing links, hashtags, special characters and lemmatizing text."
      ]
    },
    {
      "metadata": {
        "id": "8d0z0udbs-22",
        "colab_type": "code",
        "outputId": "d10f2692-e5df-4a25-d458-766dd0f3ddb2",
        "colab": {
          "base_uri": "https://localhost:8080/",
          "height": 51
        }
      },
      "cell_type": "code",
      "source": [
        "!pip3 install nltk"
      ],
      "execution_count": 0,
      "outputs": [
        {
          "output_type": "stream",
          "text": [
            "Requirement already satisfied: nltk in /usr/local/lib/python3.6/dist-packages (3.2.5)\n",
            "Requirement already satisfied: six in /usr/local/lib/python3.6/dist-packages (from nltk) (1.11.0)\n"
          ],
          "name": "stdout"
        }
      ]
    },
    {
      "metadata": {
        "id": "CBBIR98e2d-M",
        "colab_type": "code",
        "outputId": "58a88510-fba8-4c91-9567-b58783f25779",
        "colab": {
          "base_uri": "https://localhost:8080/",
          "height": 34
        }
      },
      "cell_type": "code",
      "source": [
        "!pip3 install contractions"
      ],
      "execution_count": 0,
      "outputs": [
        {
          "output_type": "stream",
          "text": [
            "Requirement already satisfied: contractions in /usr/local/lib/python3.6/dist-packages (0.0.17)\n"
          ],
          "name": "stdout"
        }
      ]
    },
    {
      "metadata": {
        "id": "E_JRAlUelDQH",
        "colab_type": "code",
        "colab": {}
      },
      "cell_type": "code",
      "source": [
        "import re\n",
        "import contractions\n",
        "import nltk\n",
        "nltk.download('wordnet')\n",
        "from nltk.stem import WordNetLemmatizer"
      ],
      "execution_count": 0,
      "outputs": []
    },
    {
      "metadata": {
        "id": "a6w5BAXatadK",
        "colab_type": "code",
        "colab": {}
      },
      "cell_type": "code",
      "source": [
        "def clean_text(text):\n",
        "  '''\n",
        "  Remove unncessary things from the tweet \n",
        "  like mentions, hashtags, URL links, punctuations\n",
        "  '''\n",
        "  wordnet_lemmatizer = WordNetLemmatizer()\n",
        "  # remove hyperlinks\n",
        "  text = re.sub(r'https?:\\/\\/.*[\\r\\n]*', '', text)\n",
        "  # only removing the hash # sign from the word\n",
        "  text = re.sub(r'#', '', text)\n",
        "  # remove mentions\n",
        "  text = re.sub(r'@[A-Za-z0-9]+', '', text) \n",
        "  #replace contractions\n",
        "  text = contractions.fix(text)\n",
        "  #remove special characters and lower all words\n",
        "  clean_text = re.sub(r'[^0-9A-Za-z \\t]', '', text).lower().split()\n",
        "  #lemmatazing text\n",
        "  lemma_text = [wordnet_lemmatizer.lemmatize(word) for word in clean_text]\n",
        "  join_text = ' '.join(lemma_text)\n",
        "  return join_text \n",
        " "
      ],
      "execution_count": 0,
      "outputs": []
    },
    {
      "metadata": {
        "id": "TDUxZgsxxV0U",
        "colab_type": "code",
        "outputId": "caa00e4f-3b48-47fd-a49d-aa1e595098f8",
        "colab": {
          "base_uri": "https://localhost:8080/",
          "height": 203
        }
      },
      "cell_type": "code",
      "source": [
        "#creating a new column with clean text\n",
        "nba_df['clean_text'] = nba_df.text.apply(clean_text)\n",
        "nba_df.head()"
      ],
      "execution_count": 0,
      "outputs": [
        {
          "output_type": "execute_result",
          "data": {
            "text/html": [
              "<div>\n",
              "<style scoped>\n",
              "    .dataframe tbody tr th:only-of-type {\n",
              "        vertical-align: middle;\n",
              "    }\n",
              "\n",
              "    .dataframe tbody tr th {\n",
              "        vertical-align: top;\n",
              "    }\n",
              "\n",
              "    .dataframe thead th {\n",
              "        text-align: right;\n",
              "    }\n",
              "</style>\n",
              "<table border=\"1\" class=\"dataframe\">\n",
              "  <thead>\n",
              "    <tr style=\"text-align: right;\">\n",
              "      <th></th>\n",
              "      <th>text</th>\n",
              "      <th>date</th>\n",
              "      <th>clean_text</th>\n",
              "    </tr>\n",
              "  </thead>\n",
              "  <tbody>\n",
              "    <tr>\n",
              "      <th>0</th>\n",
              "      <td>You don’t say</td>\n",
              "      <td>2018-11-03 20:36:51</td>\n",
              "      <td>you do not say</td>\n",
              "    </tr>\n",
              "    <tr>\n",
              "      <th>1</th>\n",
              "      <td>Joel Embiid out here clowning on everyone. Bes...</td>\n",
              "      <td>2018-11-03 20:36:53</td>\n",
              "      <td>joel embiid out here clowning on everyone best...</td>\n",
              "    </tr>\n",
              "    <tr>\n",
              "      <th>2</th>\n",
              "      <td>I hope you talking about centers ?</td>\n",
              "      <td>2018-11-03 20:36:53</td>\n",
              "      <td>i hope you talking about center</td>\n",
              "    </tr>\n",
              "    <tr>\n",
              "      <th>3</th>\n",
              "      <td>He staying lmao</td>\n",
              "      <td>2018-11-03 20:36:59</td>\n",
              "      <td>he staying lmao</td>\n",
              "    </tr>\n",
              "    <tr>\n",
              "      <th>4</th>\n",
              "      <td>EMBIID OWNS PROPERTY IN ANDRE DRUMMONDS HEAD.</td>\n",
              "      <td>2018-11-03 20:38:05</td>\n",
              "      <td>embiid owns property in andre drummonds head</td>\n",
              "    </tr>\n",
              "  </tbody>\n",
              "</table>\n",
              "</div>"
            ],
            "text/plain": [
              "                                                text                date  \\\n",
              "0                                      You don’t say 2018-11-03 20:36:51   \n",
              "1  Joel Embiid out here clowning on everyone. Bes... 2018-11-03 20:36:53   \n",
              "2                 I hope you talking about centers ? 2018-11-03 20:36:53   \n",
              "3                                    He staying lmao 2018-11-03 20:36:59   \n",
              "4      EMBIID OWNS PROPERTY IN ANDRE DRUMMONDS HEAD. 2018-11-03 20:38:05   \n",
              "\n",
              "                                          clean_text  \n",
              "0                                     you do not say  \n",
              "1  joel embiid out here clowning on everyone best...  \n",
              "2                    i hope you talking about center  \n",
              "3                                    he staying lmao  \n",
              "4       embiid owns property in andre drummonds head  "
            ]
          },
          "metadata": {
            "tags": []
          },
          "execution_count": 45
        }
      ]
    },
    {
      "metadata": {
        "id": "2LlgAk-y3NeP",
        "colab_type": "code",
        "colab": {}
      },
      "cell_type": "code",
      "source": [
        "#replacing empty string with NaN and dropping empty rows\n",
        "import numpy as np\n",
        "nba_df.clean_text = nba_df.clean_text.replace('', np.nan)\n",
        "nba_df.dropna(how='any', inplace=True)"
      ],
      "execution_count": 0,
      "outputs": []
    },
    {
      "metadata": {
        "id": "rLUo4BCp3Qwp",
        "colab_type": "code",
        "outputId": "26a3890f-f12c-495f-acf1-0f472acc814c",
        "colab": {
          "base_uri": "https://localhost:8080/",
          "height": 34
        }
      },
      "cell_type": "code",
      "source": [
        "nba_df.shape"
      ],
      "execution_count": 0,
      "outputs": [
        {
          "output_type": "execute_result",
          "data": {
            "text/plain": [
              "(34082, 3)"
            ]
          },
          "metadata": {
            "tags": []
          },
          "execution_count": 47
        }
      ]
    },
    {
      "metadata": {
        "id": "yofSs4nL4sg8",
        "colab_type": "code",
        "colab": {}
      },
      "cell_type": "code",
      "source": [
        "#round up seconds\n",
        "#nba_df['date'] = pd.to_datetime(nba_df.date)\n",
        "#nba_df['date'] = nba_df.date.dt.round('S')"
      ],
      "execution_count": 0,
      "outputs": []
    },
    {
      "metadata": {
        "id": "H7tXzqWErECI",
        "colab_type": "code",
        "outputId": "5607eccb-df0e-45f7-da18-8808b7c4371d",
        "colab": {
          "base_uri": "https://localhost:8080/",
          "height": 86
        }
      },
      "cell_type": "code",
      "source": [
        "nba_df.dtypes"
      ],
      "execution_count": 0,
      "outputs": [
        {
          "output_type": "execute_result",
          "data": {
            "text/plain": [
              "text                  object\n",
              "date          datetime64[ns]\n",
              "clean_text            object\n",
              "dtype: object"
            ]
          },
          "metadata": {
            "tags": []
          },
          "execution_count": 48
        }
      ]
    },
    {
      "metadata": {
        "id": "bJW1h-V25InN",
        "colab_type": "code",
        "colab": {}
      },
      "cell_type": "code",
      "source": [
        "#saving as a clean file\n",
        "nba_df.to_csv('clean_nba_tweets.csv', index=False, date_format='%Y-%m-%d %H:%M:%S', encoding='utf-8')"
      ],
      "execution_count": 0,
      "outputs": []
    }
  ]
}