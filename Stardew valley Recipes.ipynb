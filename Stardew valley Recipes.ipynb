{
 "cells": [
  {
   "cell_type": "code",
   "execution_count": 18,
   "metadata": {},
   "outputs": [],
   "source": [
    "#program for scraping Stardew Valey wiki page, creating xls file.\n",
    "\n",
    "import requests\n",
    "from bs4 import BeautifulSoup\n",
    "import pandas as pd\n",
    "\n",
    "data = requests.get('https://stardewvalleywiki.com/Cooking#Recipes')\n",
    "\n",
    "soup = BeautifulSoup(data.text, 'html.parser')\n",
    "\n",
    "dish = []\n",
    "ingridients = []\n",
    "energy_health =[]\n",
    "extra = []\n",
    "price = []\n",
    "\n",
    "recipes = soup.find('table', {'class':'wikitable sortable'})\n",
    "trs = recipes.find_all('tr')\n",
    "\n",
    "for tr in trs:\n",
    "    tds = tr.find_all('td')\n",
    "    if len(tds)==9 or len(tds)==12:    #some tr have 9 tds and some 12\n",
    "        name = tds[1].text.strip()\n",
    "        dish.append(name)\n",
    "        ingr = tds[3].text.strip()\n",
    "        ingridients.append(ingr)\n",
    "        ener_heal = tds[4].text.strip() \n",
    "        energy_health.append(ener_heal)\n",
    "        buff = tds[5].text.strip() \n",
    "        extra.append(buff)\n",
    "    if len(tds)==9:\n",
    "        gold = tds[8].text.strip()  \n",
    "        price.append(gold)\n",
    "    if len(tds)==12:\n",
    "        gold2 = tds[11].text.strip()\n",
    "        price.append(gold2)\n",
    "    "
   ]
  },
  {
   "cell_type": "code",
   "execution_count": 45,
   "metadata": {},
   "outputs": [],
   "source": [
    "#creating a DataFrame \n",
    "df = pd.DataFrame({'dish': dish,\n",
    "                   'ingridients': ingridients,\n",
    "                   'energy_health': energy_health,\n",
    "                   'buff': extra,\n",
    "                   'price': price})"
   ]
  },
  {
   "cell_type": "code",
   "execution_count": 46,
   "metadata": {},
   "outputs": [],
   "source": [
    "#splitting energy and health column to 2 columns, as integers\n",
    "df[\"energy\"] = df.energy_health.apply(lambda str: str.split()[0]).astype('int64')\n",
    "df[\"health\"] = df.energy_health.apply(lambda str: str.split()[1]).astype('int64')"
   ]
  },
  {
   "cell_type": "code",
   "execution_count": 47,
   "metadata": {},
   "outputs": [],
   "source": [
    "del df['energy_health']"
   ]
  },
  {
   "cell_type": "code",
   "execution_count": 48,
   "metadata": {},
   "outputs": [
    {
     "data": {
      "text/html": [
       "<div>\n",
       "<style scoped>\n",
       "    .dataframe tbody tr th:only-of-type {\n",
       "        vertical-align: middle;\n",
       "    }\n",
       "\n",
       "    .dataframe tbody tr th {\n",
       "        vertical-align: top;\n",
       "    }\n",
       "\n",
       "    .dataframe thead th {\n",
       "        text-align: right;\n",
       "    }\n",
       "</style>\n",
       "<table border=\"1\" class=\"dataframe\">\n",
       "  <thead>\n",
       "    <tr style=\"text-align: right;\">\n",
       "      <th></th>\n",
       "      <th>dish</th>\n",
       "      <th>ingridients</th>\n",
       "      <th>buff</th>\n",
       "      <th>price</th>\n",
       "      <th>energy</th>\n",
       "      <th>health</th>\n",
       "    </tr>\n",
       "  </thead>\n",
       "  <tbody>\n",
       "    <tr>\n",
       "      <th>0</th>\n",
       "      <td>Fried Egg</td>\n",
       "      <td>Egg (1)</td>\n",
       "      <td>N/A</td>\n",
       "      <td>35</td>\n",
       "      <td>50</td>\n",
       "      <td>22</td>\n",
       "    </tr>\n",
       "    <tr>\n",
       "      <th>1</th>\n",
       "      <td>Omelet</td>\n",
       "      <td>Egg (1) Milk (1)</td>\n",
       "      <td>N/A</td>\n",
       "      <td>125</td>\n",
       "      <td>100</td>\n",
       "      <td>45</td>\n",
       "    </tr>\n",
       "    <tr>\n",
       "      <th>2</th>\n",
       "      <td>Salad</td>\n",
       "      <td>Leek (1) Dandelion (1) Vinegar (1)</td>\n",
       "      <td>N/A</td>\n",
       "      <td>110</td>\n",
       "      <td>113</td>\n",
       "      <td>50</td>\n",
       "    </tr>\n",
       "    <tr>\n",
       "      <th>3</th>\n",
       "      <td>Cheese Cauliflower</td>\n",
       "      <td>Cauliflower (1) Cheese (1)</td>\n",
       "      <td>N/A</td>\n",
       "      <td>300</td>\n",
       "      <td>138</td>\n",
       "      <td>62</td>\n",
       "    </tr>\n",
       "    <tr>\n",
       "      <th>4</th>\n",
       "      <td>Baked Fish</td>\n",
       "      <td>Sunfish (1) Bream (1) Wheat Flour (1)</td>\n",
       "      <td>N/A</td>\n",
       "      <td>100</td>\n",
       "      <td>75</td>\n",
       "      <td>33</td>\n",
       "    </tr>\n",
       "  </tbody>\n",
       "</table>\n",
       "</div>"
      ],
      "text/plain": [
       "                 dish                            ingridients buff  price  \\\n",
       "0           Fried Egg                                Egg (1)  N/A     35   \n",
       "1              Omelet                       Egg (1) Milk (1)  N/A    125   \n",
       "2               Salad     Leek (1) Dandelion (1) Vinegar (1)  N/A    110   \n",
       "3  Cheese Cauliflower             Cauliflower (1) Cheese (1)  N/A    300   \n",
       "4          Baked Fish  Sunfish (1) Bream (1) Wheat Flour (1)  N/A    100   \n",
       "\n",
       "   energy  health  \n",
       "0      50      22  \n",
       "1     100      45  \n",
       "2     113      50  \n",
       "3     138      62  \n",
       "4      75      33  "
      ]
     },
     "execution_count": 48,
     "metadata": {},
     "output_type": "execute_result"
    }
   ],
   "source": [
    "#removing 'g' from price column, making integer type\n",
    "df['price'] = df.price.apply(lambda str: str.replace('g', '')).astype('int64')\n",
    "df.head()"
   ]
  },
  {
   "cell_type": "code",
   "execution_count": 49,
   "metadata": {},
   "outputs": [
    {
     "data": {
      "text/plain": [
       "dish           object\n",
       "ingridients    object\n",
       "buff           object\n",
       "price           int64\n",
       "energy          int64\n",
       "health          int64\n",
       "dtype: object"
      ]
     },
     "execution_count": 49,
     "metadata": {},
     "output_type": "execute_result"
    }
   ],
   "source": [
    "df.dtypes"
   ]
  },
  {
   "cell_type": "code",
   "execution_count": 50,
   "metadata": {},
   "outputs": [],
   "source": [
    "#saving as csv file\n",
    "df.to_csv(\"stardew_recipes.csv\", index=False)"
   ]
  },
  {
   "cell_type": "code",
   "execution_count": 51,
   "metadata": {},
   "outputs": [],
   "source": [
    "#saving as Excel file\n",
    "df.to_excel('stardew_recipes.xlsx', index=False)"
   ]
  }
 ],
 "metadata": {
  "kernelspec": {
   "display_name": "Python 3",
   "language": "python",
   "name": "python3"
  },
  "language_info": {
   "codemirror_mode": {
    "name": "ipython",
    "version": 3
   },
   "file_extension": ".py",
   "mimetype": "text/x-python",
   "name": "python",
   "nbconvert_exporter": "python",
   "pygments_lexer": "ipython3",
   "version": "3.6.5"
  }
 },
 "nbformat": 4,
 "nbformat_minor": 2
}
