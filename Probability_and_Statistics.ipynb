{
  "nbformat": 4,
  "nbformat_minor": 0,
  "metadata": {
    "colab": {
      "name": "Probability and Statistics.ipynb",
      "version": "0.3.2",
      "provenance": [],
      "collapsed_sections": []
    },
    "kernelspec": {
      "name": "python3",
      "display_name": "Python 3"
    }
  },
  "cells": [
    {
      "metadata": {
        "id": "Mxa9reFDZtLn",
        "colab_type": "text"
      },
      "cell_type": "markdown",
      "source": [
        "# Probability and Statistics\n"
      ]
    },
    {
      "metadata": {
        "id": "XPyswelGTdZr",
        "colab_type": "code",
        "colab": {}
      },
      "cell_type": "code",
      "source": [
        "import pandas as pd\n",
        "import re\n"
      ],
      "execution_count": 0,
      "outputs": []
    },
    {
      "metadata": {
        "id": "blHq1cR0aISk",
        "colab_type": "text"
      },
      "cell_type": "markdown",
      "source": [
        "Using preprocessed data set, that doesn't contain retweets."
      ]
    },
    {
      "metadata": {
        "id": "LP4XISVJTikJ",
        "colab_type": "code",
        "outputId": "d956abda-3d5f-4a9f-f01a-824b917ece86",
        "colab": {
          "base_uri": "https://localhost:8080/",
          "height": 357
        }
      },
      "cell_type": "code",
      "source": [
        "df = pd.read_csv('clean_nba_tweets.csv', parse_dates=['date'])\n",
        "df.head(10)"
      ],
      "execution_count": 0,
      "outputs": [
        {
          "output_type": "execute_result",
          "data": {
            "text/html": [
              "<div>\n",
              "<style scoped>\n",
              "    .dataframe tbody tr th:only-of-type {\n",
              "        vertical-align: middle;\n",
              "    }\n",
              "\n",
              "    .dataframe tbody tr th {\n",
              "        vertical-align: top;\n",
              "    }\n",
              "\n",
              "    .dataframe thead th {\n",
              "        text-align: right;\n",
              "    }\n",
              "</style>\n",
              "<table border=\"1\" class=\"dataframe\">\n",
              "  <thead>\n",
              "    <tr style=\"text-align: right;\">\n",
              "      <th></th>\n",
              "      <th>text</th>\n",
              "      <th>date</th>\n",
              "      <th>clean_text</th>\n",
              "    </tr>\n",
              "  </thead>\n",
              "  <tbody>\n",
              "    <tr>\n",
              "      <th>0</th>\n",
              "      <td>You don’t say</td>\n",
              "      <td>2018-11-03 20:36:51</td>\n",
              "      <td>you do not say</td>\n",
              "    </tr>\n",
              "    <tr>\n",
              "      <th>1</th>\n",
              "      <td>Joel Embiid out here clowning on everyone. Bes...</td>\n",
              "      <td>2018-11-03 20:36:53</td>\n",
              "      <td>joel embiid out here clowning on everyone best...</td>\n",
              "    </tr>\n",
              "    <tr>\n",
              "      <th>2</th>\n",
              "      <td>I hope you talking about centers ?</td>\n",
              "      <td>2018-11-03 20:36:53</td>\n",
              "      <td>i hope you talking about center</td>\n",
              "    </tr>\n",
              "    <tr>\n",
              "      <th>3</th>\n",
              "      <td>He staying lmao</td>\n",
              "      <td>2018-11-03 20:36:59</td>\n",
              "      <td>he staying lmao</td>\n",
              "    </tr>\n",
              "    <tr>\n",
              "      <th>4</th>\n",
              "      <td>EMBIID OWNS PROPERTY IN ANDRE DRUMMONDS HEAD.</td>\n",
              "      <td>2018-11-03 20:38:05</td>\n",
              "      <td>embiid owns property in andre drummonds head</td>\n",
              "    </tr>\n",
              "    <tr>\n",
              "      <th>5</th>\n",
              "      <td>Joel Embiid vs Andre Drummond and 76ers vs Pis...</td>\n",
              "      <td>2018-11-03 20:38:05</td>\n",
              "      <td>joel embiid v andre drummond and 76ers v pisto...</td>\n",
              "    </tr>\n",
              "    <tr>\n",
              "      <th>6</th>\n",
              "      <td>@Savagepatchkd @215YwnBull @SportsCenter Look ...</td>\n",
              "      <td>2018-11-03 20:38:06</td>\n",
              "      <td>look at stats when embiid play ad absolutely d...</td>\n",
              "    </tr>\n",
              "    <tr>\n",
              "      <th>7</th>\n",
              "      <td>If this is what Embiid does to an elite reboun...</td>\n",
              "      <td>2018-11-03 20:38:06</td>\n",
              "      <td>if this is what embiid doe to an elite rebound...</td>\n",
              "    </tr>\n",
              "    <tr>\n",
              "      <th>8</th>\n",
              "      <td>2018 NBA Playoffs: Celtics vs. Cavaliers live ...</td>\n",
              "      <td>2018-11-03 20:38:07</td>\n",
              "      <td>2018 nba playoff celtic v cavalier live score ...</td>\n",
              "    </tr>\n",
              "    <tr>\n",
              "      <th>9</th>\n",
              "      <td>My #NBA picks for 11/3/18:</td>\n",
              "      <td>2018-11-03 20:38:07</td>\n",
              "      <td>my nba pick for 11318</td>\n",
              "    </tr>\n",
              "  </tbody>\n",
              "</table>\n",
              "</div>"
            ],
            "text/plain": [
              "                                                text                date  \\\n",
              "0                                      You don’t say 2018-11-03 20:36:51   \n",
              "1  Joel Embiid out here clowning on everyone. Bes... 2018-11-03 20:36:53   \n",
              "2                 I hope you talking about centers ? 2018-11-03 20:36:53   \n",
              "3                                    He staying lmao 2018-11-03 20:36:59   \n",
              "4      EMBIID OWNS PROPERTY IN ANDRE DRUMMONDS HEAD. 2018-11-03 20:38:05   \n",
              "5  Joel Embiid vs Andre Drummond and 76ers vs Pis... 2018-11-03 20:38:05   \n",
              "6  @Savagepatchkd @215YwnBull @SportsCenter Look ... 2018-11-03 20:38:06   \n",
              "7  If this is what Embiid does to an elite reboun... 2018-11-03 20:38:06   \n",
              "8  2018 NBA Playoffs: Celtics vs. Cavaliers live ... 2018-11-03 20:38:07   \n",
              "9                         My #NBA picks for 11/3/18: 2018-11-03 20:38:07   \n",
              "\n",
              "                                          clean_text  \n",
              "0                                     you do not say  \n",
              "1  joel embiid out here clowning on everyone best...  \n",
              "2                    i hope you talking about center  \n",
              "3                                    he staying lmao  \n",
              "4       embiid owns property in andre drummonds head  \n",
              "5  joel embiid v andre drummond and 76ers v pisto...  \n",
              "6  look at stats when embiid play ad absolutely d...  \n",
              "7  if this is what embiid doe to an elite rebound...  \n",
              "8  2018 nba playoff celtic v cavalier live score ...  \n",
              "9                              my nba pick for 11318  "
            ]
          },
          "metadata": {
            "tags": []
          },
          "execution_count": 4
        }
      ]
    },
    {
      "metadata": {
        "id": "Z5QTYjRQTya8",
        "colab_type": "code",
        "outputId": "c74ddb53-8ae3-4100-992b-4abbca194446",
        "colab": {
          "base_uri": "https://localhost:8080/",
          "height": 34
        }
      },
      "cell_type": "code",
      "source": [
        "df.shape"
      ],
      "execution_count": 0,
      "outputs": [
        {
          "output_type": "execute_result",
          "data": {
            "text/plain": [
              "(34082, 3)"
            ]
          },
          "metadata": {
            "tags": []
          },
          "execution_count": 6
        }
      ]
    },
    {
      "metadata": {
        "id": "zY97D_lRZIyp",
        "colab_type": "text"
      },
      "cell_type": "markdown",
      "source": [
        "# Task 1 \n",
        "Pick 3 pairs of words. \n",
        "\n",
        "Find** absolute probability** for each word in your corpus.  \n",
        "Find** probability of Word given it’s pair**.  \n",
        "Find** pair probability given it’s word**.  \n",
        "Make a conclusion on pair dependencies.  \n",
        "Compute **pearson correlation coefficient** on word and pair frequencies in corpus chunks. "
      ]
    },
    {
      "metadata": {
        "id": "7kwRethjXx5E",
        "colab_type": "text"
      },
      "cell_type": "markdown",
      "source": [
        "## Creating pairs of words\n",
        "1. Independent: sun - 527, basketball - 401\n",
        "2. Weak dependency: boston - 404,  team - 1021\n",
        "3.  Strong dependency: lebron - 1035,  play - 909\n",
        "\n",
        "Total amount of tweets: 34082\n"
      ]
    },
    {
      "metadata": {
        "id": "_sw9Vg6dD0bX",
        "colab_type": "text"
      },
      "cell_type": "markdown",
      "source": [
        "## Counting words from the pairs in tweets"
      ]
    },
    {
      "metadata": {
        "id": "9Bwb8ZE7Dyja",
        "colab_type": "code",
        "colab": {}
      },
      "cell_type": "code",
      "source": [
        "def word_count(text, word):\n",
        "  count = len(re.findall(word, text))\n",
        "  return count"
      ],
      "execution_count": 0,
      "outputs": []
    },
    {
      "metadata": {
        "id": "unXMK4LkEb2i",
        "colab_type": "code",
        "colab": {}
      },
      "cell_type": "code",
      "source": [
        "df['sun'] = df['clean_text'].apply(lambda x: word_count(x, word=r'(?:^|\\W)sun(?:$|\\W)'))\n",
        "df['basketball'] = df['clean_text'].apply(lambda x: word_count(x, word=r'(?:^|\\W)basketball(?:$|\\W)'))\n",
        "df['boston'] = df['clean_text'].apply(lambda x: word_count(x, word=r'(?:^|\\W)boston(?:$|\\W)'))\n",
        "df['team'] = df['clean_text'].apply(lambda x: word_count(x, word=r'(?:^|\\W)team(?:$|\\W)'))\n",
        "df['lebron'] = df['clean_text'].apply(lambda x: word_count(x, word=r'(?:^|\\W)lebron(?:$|\\W)'))\n",
        "df['play'] = df['clean_text'].apply(lambda x: word_count(x, word=r'(?:^|\\W)play(?:$|\\W)'))"
      ],
      "execution_count": 0,
      "outputs": []
    },
    {
      "metadata": {
        "id": "1wsrksc2G5Cd",
        "colab_type": "code",
        "outputId": "0fb6ef43-9ebc-41e6-8dc7-edc2a8d3be7d",
        "colab": {
          "base_uri": "https://localhost:8080/",
          "height": 530
        }
      },
      "cell_type": "code",
      "source": [
        "df.sample(10)"
      ],
      "execution_count": 0,
      "outputs": [
        {
          "output_type": "execute_result",
          "data": {
            "text/html": [
              "<div>\n",
              "<style scoped>\n",
              "    .dataframe tbody tr th:only-of-type {\n",
              "        vertical-align: middle;\n",
              "    }\n",
              "\n",
              "    .dataframe tbody tr th {\n",
              "        vertical-align: top;\n",
              "    }\n",
              "\n",
              "    .dataframe thead th {\n",
              "        text-align: right;\n",
              "    }\n",
              "</style>\n",
              "<table border=\"1\" class=\"dataframe\">\n",
              "  <thead>\n",
              "    <tr style=\"text-align: right;\">\n",
              "      <th></th>\n",
              "      <th>text</th>\n",
              "      <th>date</th>\n",
              "      <th>clean_text</th>\n",
              "      <th>sun</th>\n",
              "      <th>basketball</th>\n",
              "      <th>boston</th>\n",
              "      <th>team</th>\n",
              "      <th>lebron</th>\n",
              "      <th>play</th>\n",
              "    </tr>\n",
              "  </thead>\n",
              "  <tbody>\n",
              "    <tr>\n",
              "      <th>17773</th>\n",
              "      <td>Q choke dos Celtics</td>\n",
              "      <td>2018-11-04 01:44:21</td>\n",
              "      <td>q choke do celtic</td>\n",
              "      <td>0</td>\n",
              "      <td>0</td>\n",
              "      <td>0</td>\n",
              "      <td>0</td>\n",
              "      <td>0</td>\n",
              "      <td>0</td>\n",
              "    </tr>\n",
              "    <tr>\n",
              "      <th>2348</th>\n",
              "      <td>wojespn: As TheSteinLine reports, center Tyson...</td>\n",
              "      <td>2018-11-03 21:50:30</td>\n",
              "      <td>wojespn a thesteinline report center tyson cha...</td>\n",
              "      <td>1</td>\n",
              "      <td>0</td>\n",
              "      <td>0</td>\n",
              "      <td>0</td>\n",
              "      <td>0</td>\n",
              "      <td>0</td>\n",
              "    </tr>\n",
              "    <tr>\n",
              "      <th>20293</th>\n",
              "      <td>Its why yuor having such a tuff go ..Your bein...</td>\n",
              "      <td>2018-11-04 02:23:21</td>\n",
              "      <td>it why yuor having such a tuff go your being c...</td>\n",
              "      <td>0</td>\n",
              "      <td>1</td>\n",
              "      <td>0</td>\n",
              "      <td>0</td>\n",
              "      <td>0</td>\n",
              "      <td>0</td>\n",
              "    </tr>\n",
              "    <tr>\n",
              "      <th>22642</th>\n",
              "      <td>@Lakers @SpectrumSN lebron calln for tha ball ...</td>\n",
              "      <td>2018-11-04 03:00:16</td>\n",
              "      <td>lebron calln for tha ball is tha funniest shit...</td>\n",
              "      <td>0</td>\n",
              "      <td>0</td>\n",
              "      <td>0</td>\n",
              "      <td>0</td>\n",
              "      <td>1</td>\n",
              "      <td>0</td>\n",
              "    </tr>\n",
              "    <tr>\n",
              "      <th>6959</th>\n",
              "      <td>@casey_brockman @zachbuettner @natevogt10 unreal</td>\n",
              "      <td>2018-11-03 22:30:44</td>\n",
              "      <td>brockman unreal</td>\n",
              "      <td>0</td>\n",
              "      <td>0</td>\n",
              "      <td>0</td>\n",
              "      <td>0</td>\n",
              "      <td>0</td>\n",
              "      <td>0</td>\n",
              "    </tr>\n",
              "    <tr>\n",
              "      <th>31647</th>\n",
              "      <td>COME ON LAKERS</td>\n",
              "      <td>2018-11-04 04:22:00</td>\n",
              "      <td>come on lakers</td>\n",
              "      <td>0</td>\n",
              "      <td>0</td>\n",
              "      <td>0</td>\n",
              "      <td>0</td>\n",
              "      <td>0</td>\n",
              "      <td>0</td>\n",
              "    </tr>\n",
              "    <tr>\n",
              "      <th>29947</th>\n",
              "      <td>Here we go @Lakers</td>\n",
              "      <td>2018-11-04 04:13:11</td>\n",
              "      <td>here we go</td>\n",
              "      <td>0</td>\n",
              "      <td>0</td>\n",
              "      <td>0</td>\n",
              "      <td>0</td>\n",
              "      <td>0</td>\n",
              "      <td>0</td>\n",
              "    </tr>\n",
              "    <tr>\n",
              "      <th>11792</th>\n",
              "      <td>LMFAOOOOOOO EMBIID THE BEST CENTER IN THE LEAG...</td>\n",
              "      <td>2018-11-04 00:02:13</td>\n",
              "      <td>lmfaooooooo embiid the best center in the leag...</td>\n",
              "      <td>0</td>\n",
              "      <td>0</td>\n",
              "      <td>0</td>\n",
              "      <td>0</td>\n",
              "      <td>0</td>\n",
              "      <td>0</td>\n",
              "    </tr>\n",
              "    <tr>\n",
              "      <th>29338</th>\n",
              "      <td>Lets go Lakers</td>\n",
              "      <td>2018-11-04 04:07:47</td>\n",
              "      <td>let u go lakers</td>\n",
              "      <td>0</td>\n",
              "      <td>0</td>\n",
              "      <td>0</td>\n",
              "      <td>0</td>\n",
              "      <td>0</td>\n",
              "      <td>0</td>\n",
              "    </tr>\n",
              "    <tr>\n",
              "      <th>33809</th>\n",
              "      <td>yeah lakers won but giving up huge leads is st...</td>\n",
              "      <td>2018-11-04 04:35:15</td>\n",
              "      <td>yeah lakers won but giving up huge lead is sti...</td>\n",
              "      <td>0</td>\n",
              "      <td>0</td>\n",
              "      <td>0</td>\n",
              "      <td>0</td>\n",
              "      <td>0</td>\n",
              "      <td>0</td>\n",
              "    </tr>\n",
              "  </tbody>\n",
              "</table>\n",
              "</div>"
            ],
            "text/plain": [
              "                                                    text                date  \\\n",
              "17773                                Q choke dos Celtics 2018-11-04 01:44:21   \n",
              "2348   wojespn: As TheSteinLine reports, center Tyson... 2018-11-03 21:50:30   \n",
              "20293  Its why yuor having such a tuff go ..Your bein... 2018-11-04 02:23:21   \n",
              "22642  @Lakers @SpectrumSN lebron calln for tha ball ... 2018-11-04 03:00:16   \n",
              "6959    @casey_brockman @zachbuettner @natevogt10 unreal 2018-11-03 22:30:44   \n",
              "31647                                     COME ON LAKERS 2018-11-04 04:22:00   \n",
              "29947                                 Here we go @Lakers 2018-11-04 04:13:11   \n",
              "11792  LMFAOOOOOOO EMBIID THE BEST CENTER IN THE LEAG... 2018-11-04 00:02:13   \n",
              "29338                                     Lets go Lakers 2018-11-04 04:07:47   \n",
              "33809  yeah lakers won but giving up huge leads is st... 2018-11-04 04:35:15   \n",
              "\n",
              "                                              clean_text  sun  basketball  \\\n",
              "17773                                  q choke do celtic    0           0   \n",
              "2348   wojespn a thesteinline report center tyson cha...    1           0   \n",
              "20293  it why yuor having such a tuff go your being c...    0           1   \n",
              "22642  lebron calln for tha ball is tha funniest shit...    0           0   \n",
              "6959                                     brockman unreal    0           0   \n",
              "31647                                     come on lakers    0           0   \n",
              "29947                                         here we go    0           0   \n",
              "11792  lmfaooooooo embiid the best center in the leag...    0           0   \n",
              "29338                                    let u go lakers    0           0   \n",
              "33809  yeah lakers won but giving up huge lead is sti...    0           0   \n",
              "\n",
              "       boston  team  lebron  play  \n",
              "17773       0     0       0     0  \n",
              "2348        0     0       0     0  \n",
              "20293       0     0       0     0  \n",
              "22642       0     0       1     0  \n",
              "6959        0     0       0     0  \n",
              "31647       0     0       0     0  \n",
              "29947       0     0       0     0  \n",
              "11792       0     0       0     0  \n",
              "29338       0     0       0     0  \n",
              "33809       0     0       0     0  "
            ]
          },
          "metadata": {
            "tags": []
          },
          "execution_count": 9
        }
      ]
    },
    {
      "metadata": {
        "id": "4R9ZhK8PGM0N",
        "colab_type": "text"
      },
      "cell_type": "markdown",
      "source": [
        "### Absolute probability of words sun and basketball"
      ]
    },
    {
      "metadata": {
        "id": "CqPUisGd1W7Z",
        "colab_type": "code",
        "outputId": "6b975f28-9d04-4610-88e3-f284712927cf",
        "colab": {
          "base_uri": "https://localhost:8080/",
          "height": 34
        }
      },
      "cell_type": "code",
      "source": [
        "sun_prob = len(df[df.sun > 0])/len(df)\n",
        "sun_prob"
      ],
      "execution_count": 0,
      "outputs": [
        {
          "output_type": "execute_result",
          "data": {
            "text/plain": [
              "0.01513995657531835"
            ]
          },
          "metadata": {
            "tags": []
          },
          "execution_count": 10
        }
      ]
    },
    {
      "metadata": {
        "id": "tIhnHnae253y",
        "colab_type": "code",
        "outputId": "68d43a02-1184-42cb-ea10-7e343f0c59ef",
        "colab": {
          "base_uri": "https://localhost:8080/",
          "height": 34
        }
      },
      "cell_type": "code",
      "source": [
        "basketball_prob = len(df[df.basketball > 0])/len(df)\n",
        "basketball_prob"
      ],
      "execution_count": 0,
      "outputs": [
        {
          "output_type": "execute_result",
          "data": {
            "text/plain": [
              "0.011296285429258847"
            ]
          },
          "metadata": {
            "tags": []
          },
          "execution_count": 11
        }
      ]
    },
    {
      "metadata": {
        "id": "l0A4AXUMJCCY",
        "colab_type": "text"
      },
      "cell_type": "markdown",
      "source": [
        "### Conditional probability\n"
      ]
    },
    {
      "metadata": {
        "id": "s4pQr28b3ziU",
        "colab_type": "text"
      },
      "cell_type": "markdown",
      "source": [
        "P(basketball | sun)"
      ]
    },
    {
      "metadata": {
        "id": "c6l74E3m4AEw",
        "colab_type": "code",
        "outputId": "27139e7f-565a-44c6-e873-3ea0d9ea6ca2",
        "colab": {
          "base_uri": "https://localhost:8080/",
          "height": 68
        }
      },
      "cell_type": "code",
      "source": [
        "basketball_sun_prob = len(df[df.sun > 0][df.basketball > 0]) / len(df[df.sun > 0])\n",
        "basketball_sun_prob"
      ],
      "execution_count": 0,
      "outputs": [
        {
          "output_type": "stream",
          "text": [
            "/usr/local/lib/python3.6/dist-packages/ipykernel_launcher.py:1: UserWarning: Boolean Series key will be reindexed to match DataFrame index.\n",
            "  \"\"\"Entry point for launching an IPython kernel.\n"
          ],
          "name": "stderr"
        },
        {
          "output_type": "execute_result",
          "data": {
            "text/plain": [
              "0.040697674418604654"
            ]
          },
          "metadata": {
            "tags": []
          },
          "execution_count": 12
        }
      ]
    },
    {
      "metadata": {
        "id": "4zJdNAdYMMxW",
        "colab_type": "text"
      },
      "cell_type": "markdown",
      "source": [
        "P(sun | basketball)"
      ]
    },
    {
      "metadata": {
        "id": "0GhCvRB05M9S",
        "colab_type": "code",
        "outputId": "ec69ff16-ab40-47ae-f155-56eaa40aa9e7",
        "colab": {
          "base_uri": "https://localhost:8080/",
          "height": 68
        }
      },
      "cell_type": "code",
      "source": [
        "sun_basketball_prob = len(df[df.basketball > 0][df.sun > 0]) / len(df[df.basketball > 0])\n",
        "sun_basketball_prob"
      ],
      "execution_count": 0,
      "outputs": [
        {
          "output_type": "stream",
          "text": [
            "/usr/local/lib/python3.6/dist-packages/ipykernel_launcher.py:1: UserWarning: Boolean Series key will be reindexed to match DataFrame index.\n",
            "  \"\"\"Entry point for launching an IPython kernel.\n"
          ],
          "name": "stderr"
        },
        {
          "output_type": "execute_result",
          "data": {
            "text/plain": [
              "0.05454545454545454"
            ]
          },
          "metadata": {
            "tags": []
          },
          "execution_count": 13
        }
      ]
    },
    {
      "metadata": {
        "id": "i4STtan05mbo",
        "colab_type": "text"
      },
      "cell_type": "markdown",
      "source": [
        "### Correlation between sun and basketball"
      ]
    },
    {
      "metadata": {
        "id": "EEPteN7Q6p0k",
        "colab_type": "code",
        "colab": {}
      },
      "cell_type": "code",
      "source": [
        "from scipy.stats.stats import pearsonr"
      ],
      "execution_count": 0,
      "outputs": []
    },
    {
      "metadata": {
        "id": "ZyIGmpo67ljw",
        "colab_type": "text"
      },
      "cell_type": "markdown",
      "source": [
        "Correlation in all tweets"
      ]
    },
    {
      "metadata": {
        "id": "fGD--o2v6_h3",
        "colab_type": "code",
        "outputId": "c3763f13-76b5-4d4f-85b5-719244801a07",
        "colab": {
          "base_uri": "https://localhost:8080/",
          "height": 34
        }
      },
      "cell_type": "code",
      "source": [
        "corr, p = pearsonr(df['sun'], df['basketball'])\n",
        "print(corr)"
      ],
      "execution_count": 0,
      "outputs": [
        {
          "output_type": "stream",
          "text": [
            "0.07814623190800296\n"
          ],
          "name": "stdout"
        }
      ]
    },
    {
      "metadata": {
        "id": "Jw1oCM257wgz",
        "colab_type": "text"
      },
      "cell_type": "markdown",
      "source": [
        "Correlation per 2000 chunks"
      ]
    },
    {
      "metadata": {
        "id": "cGcwzHY0561K",
        "colab_type": "code",
        "outputId": "57aa90b8-3459-4b30-af8c-a1e072709283",
        "colab": {
          "base_uri": "https://localhost:8080/",
          "height": 345
        }
      },
      "cell_type": "code",
      "source": [
        "df.groupby(lambda x: x//2000)['sun'].corr(df['basketball'])"
      ],
      "execution_count": 0,
      "outputs": [
        {
          "output_type": "execute_result",
          "data": {
            "text/plain": [
              "0     0.140736\n",
              "1    -0.014576\n",
              "2     0.047349\n",
              "3     0.058758\n",
              "4     0.106791\n",
              "5     0.233061\n",
              "6     0.205636\n",
              "7     0.053601\n",
              "8    -0.011375\n",
              "9    -0.010626\n",
              "10    0.086511\n",
              "11    0.117846\n",
              "12   -0.009394\n",
              "13   -0.005152\n",
              "14   -0.004306\n",
              "15   -0.005177\n",
              "16   -0.003621\n",
              "17   -0.012346\n",
              "Name: sun, dtype: float64"
            ]
          },
          "metadata": {
            "tags": []
          },
          "execution_count": 38
        }
      ]
    },
    {
      "metadata": {
        "id": "X662UsJY9D8t",
        "colab_type": "text"
      },
      "cell_type": "markdown",
      "source": [
        "###  Absolute probability of words boston and team"
      ]
    },
    {
      "metadata": {
        "id": "xkgA9sn6-jDQ",
        "colab_type": "code",
        "outputId": "9395fed6-2625-4e15-9386-a5fd32ba094b",
        "colab": {
          "base_uri": "https://localhost:8080/",
          "height": 34
        }
      },
      "cell_type": "code",
      "source": [
        "boston_prob = len(df[df.boston > 0])/len(df)\n",
        "boston_prob\n"
      ],
      "execution_count": 0,
      "outputs": [
        {
          "output_type": "execute_result",
          "data": {
            "text/plain": [
              "0.011120239422569098"
            ]
          },
          "metadata": {
            "tags": []
          },
          "execution_count": 17
        }
      ]
    },
    {
      "metadata": {
        "id": "HU3UwAlv-6lA",
        "colab_type": "code",
        "outputId": "71e75f3f-d319-451f-a419-90df6f2996af",
        "colab": {
          "base_uri": "https://localhost:8080/",
          "height": 34
        }
      },
      "cell_type": "code",
      "source": [
        "team_prob = len(df[df.team > 0])/len(df)\n",
        "team_prob\n"
      ],
      "execution_count": 0,
      "outputs": [
        {
          "output_type": "execute_result",
          "data": {
            "text/plain": [
              "0.027345813039140895"
            ]
          },
          "metadata": {
            "tags": []
          },
          "execution_count": 18
        }
      ]
    },
    {
      "metadata": {
        "id": "1g30d94c_Kzp",
        "colab_type": "text"
      },
      "cell_type": "markdown",
      "source": [
        "### Conditional probability"
      ]
    },
    {
      "metadata": {
        "id": "_pkfysHU_N_I",
        "colab_type": "text"
      },
      "cell_type": "markdown",
      "source": [
        "P(team | boston)"
      ]
    },
    {
      "metadata": {
        "id": "7PG1a3ou_aaj",
        "colab_type": "code",
        "outputId": "05a3a0d3-c13d-46a3-b47a-b77142cb05da",
        "colab": {
          "base_uri": "https://localhost:8080/",
          "height": 68
        }
      },
      "cell_type": "code",
      "source": [
        "team_boston_prob = len(df[df.boston > 0][df.team > 0]) / len(df[df.boston > 0])\n",
        "team_boston_prob"
      ],
      "execution_count": 0,
      "outputs": [
        {
          "output_type": "stream",
          "text": [
            "/usr/local/lib/python3.6/dist-packages/ipykernel_launcher.py:1: UserWarning: Boolean Series key will be reindexed to match DataFrame index.\n",
            "  \"\"\"Entry point for launching an IPython kernel.\n"
          ],
          "name": "stderr"
        },
        {
          "output_type": "execute_result",
          "data": {
            "text/plain": [
              "0.04221635883905013"
            ]
          },
          "metadata": {
            "tags": []
          },
          "execution_count": 19
        }
      ]
    },
    {
      "metadata": {
        "id": "ipA4Nxt2_TQ-",
        "colab_type": "text"
      },
      "cell_type": "markdown",
      "source": [
        "P(boston | team)"
      ]
    },
    {
      "metadata": {
        "id": "zWzhnrK7AFXN",
        "colab_type": "code",
        "outputId": "304c8638-d28c-4f60-cb06-43b0ceeb2541",
        "colab": {
          "base_uri": "https://localhost:8080/",
          "height": 68
        }
      },
      "cell_type": "code",
      "source": [
        "boston_team_prob = len(df[df.team > 0][df.boston > 0]) / len(df[df.team > 0])\n",
        "boston_team_prob"
      ],
      "execution_count": 0,
      "outputs": [
        {
          "output_type": "stream",
          "text": [
            "/usr/local/lib/python3.6/dist-packages/ipykernel_launcher.py:1: UserWarning: Boolean Series key will be reindexed to match DataFrame index.\n",
            "  \"\"\"Entry point for launching an IPython kernel.\n"
          ],
          "name": "stderr"
        },
        {
          "output_type": "execute_result",
          "data": {
            "text/plain": [
              "0.017167381974248927"
            ]
          },
          "metadata": {
            "tags": []
          },
          "execution_count": 20
        }
      ]
    },
    {
      "metadata": {
        "id": "ncCLfme2AmEK",
        "colab_type": "text"
      },
      "cell_type": "markdown",
      "source": [
        "### Correlation between boston and team"
      ]
    },
    {
      "metadata": {
        "id": "HP17J_YpAvrZ",
        "colab_type": "code",
        "outputId": "a979d716-56ac-4668-bd39-5aa35b10cceb",
        "colab": {
          "base_uri": "https://localhost:8080/",
          "height": 34
        }
      },
      "cell_type": "code",
      "source": [
        "corr, p = pearsonr(df['boston'], df['team'])\n",
        "print(corr)"
      ],
      "execution_count": 0,
      "outputs": [
        {
          "output_type": "stream",
          "text": [
            "0.12310342173219795\n"
          ],
          "name": "stdout"
        }
      ]
    },
    {
      "metadata": {
        "id": "dPPSbIjmA5on",
        "colab_type": "code",
        "outputId": "39808c31-da84-4569-8f3e-d7c12101dc2f",
        "colab": {
          "base_uri": "https://localhost:8080/",
          "height": 345
        }
      },
      "cell_type": "code",
      "source": [
        "df.groupby(lambda x: x//2000)['boston'].corr(df['team'])"
      ],
      "execution_count": 0,
      "outputs": [
        {
          "output_type": "execute_result",
          "data": {
            "text/plain": [
              "0     0.567247\n",
              "1    -0.006792\n",
              "2     0.059192\n",
              "3    -0.014094\n",
              "4     0.040134\n",
              "5     0.217820\n",
              "6     0.184867\n",
              "7     0.034767\n",
              "8    -0.016834\n",
              "9    -0.015048\n",
              "10    0.135592\n",
              "11    0.429158\n",
              "12   -0.014749\n",
              "13   -0.009683\n",
              "14   -0.008304\n",
              "15   -0.005987\n",
              "16   -0.005169\n",
              "17         NaN\n",
              "Name: boston, dtype: float64"
            ]
          },
          "metadata": {
            "tags": []
          },
          "execution_count": 22
        }
      ]
    },
    {
      "metadata": {
        "id": "qVhl2rV1DjH0",
        "colab_type": "text"
      },
      "cell_type": "markdown",
      "source": [
        "### Absolute probability of words lebron and play"
      ]
    },
    {
      "metadata": {
        "id": "jMjLW7aXDnW-",
        "colab_type": "code",
        "outputId": "13360a20-1cc0-485d-c300-4fd68123cc7f",
        "colab": {
          "base_uri": "https://localhost:8080/",
          "height": 34
        }
      },
      "cell_type": "code",
      "source": [
        "lebron_prob = len(df[df.lebron > 0])/len(df)\n",
        "lebron_prob"
      ],
      "execution_count": 0,
      "outputs": [
        {
          "output_type": "execute_result",
          "data": {
            "text/plain": [
              "0.028460771081509302"
            ]
          },
          "metadata": {
            "tags": []
          },
          "execution_count": 23
        }
      ]
    },
    {
      "metadata": {
        "id": "ZYF-mXcHD5X2",
        "colab_type": "code",
        "outputId": "a797db25-699f-4fd3-b12b-b3eafaa97daa",
        "colab": {
          "base_uri": "https://localhost:8080/",
          "height": 34
        }
      },
      "cell_type": "code",
      "source": [
        "play_prob = len(df[df.play > 0])/len(df)\n",
        "play_prob"
      ],
      "execution_count": 0,
      "outputs": [
        {
          "output_type": "execute_result",
          "data": {
            "text/plain": [
              "0.02441171292764509"
            ]
          },
          "metadata": {
            "tags": []
          },
          "execution_count": 24
        }
      ]
    },
    {
      "metadata": {
        "id": "sgmwuyj2EEXK",
        "colab_type": "text"
      },
      "cell_type": "markdown",
      "source": [
        "### Conditional probability"
      ]
    },
    {
      "metadata": {
        "id": "R7q6fUJOEGI0",
        "colab_type": "text"
      },
      "cell_type": "markdown",
      "source": [
        "P(play | lebron)"
      ]
    },
    {
      "metadata": {
        "id": "4I6B-S0wEKbp",
        "colab_type": "code",
        "outputId": "61b4c8a0-e543-4fba-bfc7-713dcb4f7724",
        "colab": {
          "base_uri": "https://localhost:8080/",
          "height": 68
        }
      },
      "cell_type": "code",
      "source": [
        "play_lebron_prob = len(df[df.lebron > 0][df.play > 0]) / len(df[df.lebron > 0])\n",
        "play_lebron_prob"
      ],
      "execution_count": 0,
      "outputs": [
        {
          "output_type": "stream",
          "text": [
            "/usr/local/lib/python3.6/dist-packages/ipykernel_launcher.py:1: UserWarning: Boolean Series key will be reindexed to match DataFrame index.\n",
            "  \"\"\"Entry point for launching an IPython kernel.\n"
          ],
          "name": "stderr"
        },
        {
          "output_type": "execute_result",
          "data": {
            "text/plain": [
              "0.06597938144329897"
            ]
          },
          "metadata": {
            "tags": []
          },
          "execution_count": 25
        }
      ]
    },
    {
      "metadata": {
        "id": "bYDB_5BHEqOZ",
        "colab_type": "text"
      },
      "cell_type": "markdown",
      "source": [
        "P(lebron | play)"
      ]
    },
    {
      "metadata": {
        "id": "iOoNeg41Eilv",
        "colab_type": "code",
        "outputId": "7fd0e3db-3166-4a88-d6f9-e4a30cbf57a5",
        "colab": {
          "base_uri": "https://localhost:8080/",
          "height": 68
        }
      },
      "cell_type": "code",
      "source": [
        "lebron_play_prob = len(df[df.play > 0][df.lebron > 0]) / len(df[df.play > 0])\n",
        "lebron_play_prob"
      ],
      "execution_count": 0,
      "outputs": [
        {
          "output_type": "stream",
          "text": [
            "/usr/local/lib/python3.6/dist-packages/ipykernel_launcher.py:1: UserWarning: Boolean Series key will be reindexed to match DataFrame index.\n",
            "  \"\"\"Entry point for launching an IPython kernel.\n"
          ],
          "name": "stderr"
        },
        {
          "output_type": "execute_result",
          "data": {
            "text/plain": [
              "0.07692307692307693"
            ]
          },
          "metadata": {
            "tags": []
          },
          "execution_count": 26
        }
      ]
    },
    {
      "metadata": {
        "id": "_BnGsZKsFISG",
        "colab_type": "text"
      },
      "cell_type": "markdown",
      "source": [
        "### Correlation between lebron and play"
      ]
    },
    {
      "metadata": {
        "id": "1u-1qx4nFHsA",
        "colab_type": "code",
        "outputId": "f6bb2bee-3e9f-429a-88e1-e6f4f555e1fa",
        "colab": {
          "base_uri": "https://localhost:8080/",
          "height": 34
        }
      },
      "cell_type": "code",
      "source": [
        "corr, p = pearsonr(df['lebron'], df['play'])\n",
        "print(corr)"
      ],
      "execution_count": 0,
      "outputs": [
        {
          "output_type": "stream",
          "text": [
            "0.305552228358264\n"
          ],
          "name": "stdout"
        }
      ]
    },
    {
      "metadata": {
        "id": "Q3RoAuwfFYOM",
        "colab_type": "code",
        "outputId": "63a29225-cb66-44c0-c4ee-0b78e8def76f",
        "colab": {
          "base_uri": "https://localhost:8080/",
          "height": 345
        }
      },
      "cell_type": "code",
      "source": [
        "df.groupby(lambda x: x//2000)['lebron'].corr(df['play'])"
      ],
      "execution_count": 0,
      "outputs": [
        {
          "output_type": "execute_result",
          "data": {
            "text/plain": [
              "0     0.656211\n",
              "1     0.075405\n",
              "2     0.045184\n",
              "3     0.003985\n",
              "4     0.071832\n",
              "5     0.170992\n",
              "6     0.300322\n",
              "7    -0.018324\n",
              "8    -0.025714\n",
              "9    -0.003522\n",
              "10    0.363157\n",
              "11    0.586937\n",
              "12    0.111075\n",
              "13    0.031121\n",
              "14    0.024243\n",
              "15    0.583103\n",
              "16    0.078201\n",
              "17         NaN\n",
              "Name: lebron, dtype: float64"
            ]
          },
          "metadata": {
            "tags": []
          },
          "execution_count": 28
        }
      ]
    },
    {
      "metadata": {
        "id": "4tuubUkbGFJl",
        "colab_type": "text"
      },
      "cell_type": "markdown",
      "source": [
        "## Conclusion\n",
        "Based on correlation we can see that words **lebron** and **play** are the most dependent. Medium dependency occur between **boston** and **team** and very low correlation between **sun** and ** basketball.**\n"
      ]
    },
    {
      "metadata": {
        "id": "EvvBYU0WdzxO",
        "colab_type": "text"
      },
      "cell_type": "markdown",
      "source": [
        "# Task 2\n",
        "Draw messages frequency over the whole period\n",
        "\n",
        "Draw a diagram of distribution of word **lebron** frequency over the whole day. Don’t forget about normalization.\n"
      ]
    },
    {
      "metadata": {
        "id": "QnrlirqnMdX-",
        "colab_type": "code",
        "outputId": "a19225f3-0c4c-41c7-be31-b1d9ebd891c8",
        "colab": {
          "base_uri": "https://localhost:8080/",
          "height": 327
        }
      },
      "cell_type": "code",
      "source": [
        "hour_tweets = df[['lebron', 'date']].groupby([pd.Grouper(key='date', freq='H')])['lebron'].agg(['sum', 'count']).reset_index()\n",
        "hour_tweets"
      ],
      "execution_count": 0,
      "outputs": [
        {
          "output_type": "execute_result",
          "data": {
            "text/html": [
              "<div>\n",
              "<style scoped>\n",
              "    .dataframe tbody tr th:only-of-type {\n",
              "        vertical-align: middle;\n",
              "    }\n",
              "\n",
              "    .dataframe tbody tr th {\n",
              "        vertical-align: top;\n",
              "    }\n",
              "\n",
              "    .dataframe thead th {\n",
              "        text-align: right;\n",
              "    }\n",
              "</style>\n",
              "<table border=\"1\" class=\"dataframe\">\n",
              "  <thead>\n",
              "    <tr style=\"text-align: right;\">\n",
              "      <th></th>\n",
              "      <th>date</th>\n",
              "      <th>sum</th>\n",
              "      <th>count</th>\n",
              "    </tr>\n",
              "  </thead>\n",
              "  <tbody>\n",
              "    <tr>\n",
              "      <th>0</th>\n",
              "      <td>2018-11-03 20:00:00</td>\n",
              "      <td>19</td>\n",
              "      <td>334</td>\n",
              "    </tr>\n",
              "    <tr>\n",
              "      <th>1</th>\n",
              "      <td>2018-11-03 21:00:00</td>\n",
              "      <td>121</td>\n",
              "      <td>3595</td>\n",
              "    </tr>\n",
              "    <tr>\n",
              "      <th>2</th>\n",
              "      <td>2018-11-03 22:00:00</td>\n",
              "      <td>99</td>\n",
              "      <td>4878</td>\n",
              "    </tr>\n",
              "    <tr>\n",
              "      <th>3</th>\n",
              "      <td>2018-11-03 23:00:00</td>\n",
              "      <td>55</td>\n",
              "      <td>2875</td>\n",
              "    </tr>\n",
              "    <tr>\n",
              "      <th>4</th>\n",
              "      <td>2018-11-04 00:00:00</td>\n",
              "      <td>62</td>\n",
              "      <td>2447</td>\n",
              "    </tr>\n",
              "    <tr>\n",
              "      <th>5</th>\n",
              "      <td>2018-11-04 01:00:00</td>\n",
              "      <td>73</td>\n",
              "      <td>4540</td>\n",
              "    </tr>\n",
              "    <tr>\n",
              "      <th>6</th>\n",
              "      <td>2018-11-04 02:00:00</td>\n",
              "      <td>122</td>\n",
              "      <td>3946</td>\n",
              "    </tr>\n",
              "    <tr>\n",
              "      <th>7</th>\n",
              "      <td>2018-11-04 03:00:00</td>\n",
              "      <td>275</td>\n",
              "      <td>5456</td>\n",
              "    </tr>\n",
              "    <tr>\n",
              "      <th>8</th>\n",
              "      <td>2018-11-04 04:00:00</td>\n",
              "      <td>208</td>\n",
              "      <td>6011</td>\n",
              "    </tr>\n",
              "  </tbody>\n",
              "</table>\n",
              "</div>"
            ],
            "text/plain": [
              "                 date  sum  count\n",
              "0 2018-11-03 20:00:00   19    334\n",
              "1 2018-11-03 21:00:00  121   3595\n",
              "2 2018-11-03 22:00:00   99   4878\n",
              "3 2018-11-03 23:00:00   55   2875\n",
              "4 2018-11-04 00:00:00   62   2447\n",
              "5 2018-11-04 01:00:00   73   4540\n",
              "6 2018-11-04 02:00:00  122   3946\n",
              "7 2018-11-04 03:00:00  275   5456\n",
              "8 2018-11-04 04:00:00  208   6011"
            ]
          },
          "metadata": {
            "tags": []
          },
          "execution_count": 29
        }
      ]
    },
    {
      "metadata": {
        "id": "YSjWV6POCqpL",
        "colab_type": "text"
      },
      "cell_type": "markdown",
      "source": [
        "## Messages frequency over 8 hours"
      ]
    },
    {
      "metadata": {
        "id": "blRi1tc8ohEa",
        "colab_type": "code",
        "outputId": "c8423a0b-9177-40cb-bb55-7747523fb92d",
        "colab": {
          "base_uri": "https://localhost:8080/",
          "height": 372
        }
      },
      "cell_type": "code",
      "source": [
        "hour_tweets.plot(x='date', y='count', color='g', label='tweets per hour');"
      ],
      "execution_count": 0,
      "outputs": [
        {
          "output_type": "display_data",
          "data": {
            "image/png": "[encoded data removed]",
            "text/plain": [
              "<matplotlib.figure.Figure at 0x7fed67d4a2b0>"
            ]
          },
          "metadata": {
            "tags": []
          }
        }
      ]
    },
    {
      "metadata": {
        "id": "zSpyI_WyDRIF",
        "colab_type": "text"
      },
      "cell_type": "markdown",
      "source": [
        "## Normalization\n",
        "Dividing number of word 'lebron' per hour by number of tweets per hour."
      ]
    },
    {
      "metadata": {
        "id": "ojTWcv52L1vA",
        "colab_type": "code",
        "outputId": "b0195549-d270-41b7-ba64-8754b54b5509",
        "colab": {
          "base_uri": "https://localhost:8080/",
          "height": 327
        }
      },
      "cell_type": "code",
      "source": [
        "hour_tweets['lebron_norm'] = hour_tweets['sum'] / hour_tweets['count'] \n",
        "hour_tweets"
      ],
      "execution_count": 0,
      "outputs": [
        {
          "output_type": "execute_result",
          "data": {
            "text/html": [
              "<div>\n",
              "<style scoped>\n",
              "    .dataframe tbody tr th:only-of-type {\n",
              "        vertical-align: middle;\n",
              "    }\n",
              "\n",
              "    .dataframe tbody tr th {\n",
              "        vertical-align: top;\n",
              "    }\n",
              "\n",
              "    .dataframe thead th {\n",
              "        text-align: right;\n",
              "    }\n",
              "</style>\n",
              "<table border=\"1\" class=\"dataframe\">\n",
              "  <thead>\n",
              "    <tr style=\"text-align: right;\">\n",
              "      <th></th>\n",
              "      <th>date</th>\n",
              "      <th>sum</th>\n",
              "      <th>count</th>\n",
              "      <th>lebron_norm</th>\n",
              "    </tr>\n",
              "  </thead>\n",
              "  <tbody>\n",
              "    <tr>\n",
              "      <th>0</th>\n",
              "      <td>2018-11-03 20:00:00</td>\n",
              "      <td>19</td>\n",
              "      <td>334</td>\n",
              "      <td>0.056886</td>\n",
              "    </tr>\n",
              "    <tr>\n",
              "      <th>1</th>\n",
              "      <td>2018-11-03 21:00:00</td>\n",
              "      <td>121</td>\n",
              "      <td>3595</td>\n",
              "      <td>0.033658</td>\n",
              "    </tr>\n",
              "    <tr>\n",
              "      <th>2</th>\n",
              "      <td>2018-11-03 22:00:00</td>\n",
              "      <td>99</td>\n",
              "      <td>4878</td>\n",
              "      <td>0.020295</td>\n",
              "    </tr>\n",
              "    <tr>\n",
              "      <th>3</th>\n",
              "      <td>2018-11-03 23:00:00</td>\n",
              "      <td>55</td>\n",
              "      <td>2875</td>\n",
              "      <td>0.019130</td>\n",
              "    </tr>\n",
              "    <tr>\n",
              "      <th>4</th>\n",
              "      <td>2018-11-04 00:00:00</td>\n",
              "      <td>62</td>\n",
              "      <td>2447</td>\n",
              "      <td>0.025337</td>\n",
              "    </tr>\n",
              "    <tr>\n",
              "      <th>5</th>\n",
              "      <td>2018-11-04 01:00:00</td>\n",
              "      <td>73</td>\n",
              "      <td>4540</td>\n",
              "      <td>0.016079</td>\n",
              "    </tr>\n",
              "    <tr>\n",
              "      <th>6</th>\n",
              "      <td>2018-11-04 02:00:00</td>\n",
              "      <td>122</td>\n",
              "      <td>3946</td>\n",
              "      <td>0.030917</td>\n",
              "    </tr>\n",
              "    <tr>\n",
              "      <th>7</th>\n",
              "      <td>2018-11-04 03:00:00</td>\n",
              "      <td>275</td>\n",
              "      <td>5456</td>\n",
              "      <td>0.050403</td>\n",
              "    </tr>\n",
              "    <tr>\n",
              "      <th>8</th>\n",
              "      <td>2018-11-04 04:00:00</td>\n",
              "      <td>208</td>\n",
              "      <td>6011</td>\n",
              "      <td>0.034603</td>\n",
              "    </tr>\n",
              "  </tbody>\n",
              "</table>\n",
              "</div>"
            ],
            "text/plain": [
              "                 date  sum  count  lebron_norm\n",
              "0 2018-11-03 20:00:00   19    334     0.056886\n",
              "1 2018-11-03 21:00:00  121   3595     0.033658\n",
              "2 2018-11-03 22:00:00   99   4878     0.020295\n",
              "3 2018-11-03 23:00:00   55   2875     0.019130\n",
              "4 2018-11-04 00:00:00   62   2447     0.025337\n",
              "5 2018-11-04 01:00:00   73   4540     0.016079\n",
              "6 2018-11-04 02:00:00  122   3946     0.030917\n",
              "7 2018-11-04 03:00:00  275   5456     0.050403\n",
              "8 2018-11-04 04:00:00  208   6011     0.034603"
            ]
          },
          "metadata": {
            "tags": []
          },
          "execution_count": 31
        }
      ]
    },
    {
      "metadata": {
        "id": "1pD-d8ObNLI2",
        "colab_type": "code",
        "outputId": "e106a31d-2f9a-45f5-9129-07b492125a89",
        "colab": {
          "base_uri": "https://localhost:8080/",
          "height": 327
        }
      },
      "cell_type": "code",
      "source": [
        "from sklearn import preprocessing\n",
        "hour_tweets['lebron_norm'] = preprocessing.scale(hour_tweets['lebron_norm'].astype('float64'))\n",
        "hour_tweets"
      ],
      "execution_count": 0,
      "outputs": [
        {
          "output_type": "execute_result",
          "data": {
            "text/html": [
              "<div>\n",
              "<style scoped>\n",
              "    .dataframe tbody tr th:only-of-type {\n",
              "        vertical-align: middle;\n",
              "    }\n",
              "\n",
              "    .dataframe tbody tr th {\n",
              "        vertical-align: top;\n",
              "    }\n",
              "\n",
              "    .dataframe thead th {\n",
              "        text-align: right;\n",
              "    }\n",
              "</style>\n",
              "<table border=\"1\" class=\"dataframe\">\n",
              "  <thead>\n",
              "    <tr style=\"text-align: right;\">\n",
              "      <th></th>\n",
              "      <th>date</th>\n",
              "      <th>sum</th>\n",
              "      <th>count</th>\n",
              "      <th>lebron_norm</th>\n",
              "    </tr>\n",
              "  </thead>\n",
              "  <tbody>\n",
              "    <tr>\n",
              "      <th>0</th>\n",
              "      <td>2018-11-03 20:00:00</td>\n",
              "      <td>19</td>\n",
              "      <td>334</td>\n",
              "      <td>1.890539</td>\n",
              "    </tr>\n",
              "    <tr>\n",
              "      <th>1</th>\n",
              "      <td>2018-11-03 21:00:00</td>\n",
              "      <td>121</td>\n",
              "      <td>3595</td>\n",
              "      <td>0.131362</td>\n",
              "    </tr>\n",
              "    <tr>\n",
              "      <th>2</th>\n",
              "      <td>2018-11-03 22:00:00</td>\n",
              "      <td>99</td>\n",
              "      <td>4878</td>\n",
              "      <td>-0.880644</td>\n",
              "    </tr>\n",
              "    <tr>\n",
              "      <th>3</th>\n",
              "      <td>2018-11-03 23:00:00</td>\n",
              "      <td>55</td>\n",
              "      <td>2875</td>\n",
              "      <td>-0.968857</td>\n",
              "    </tr>\n",
              "    <tr>\n",
              "      <th>4</th>\n",
              "      <td>2018-11-04 00:00:00</td>\n",
              "      <td>62</td>\n",
              "      <td>2447</td>\n",
              "      <td>-0.498798</td>\n",
              "    </tr>\n",
              "    <tr>\n",
              "      <th>5</th>\n",
              "      <td>2018-11-04 01:00:00</td>\n",
              "      <td>73</td>\n",
              "      <td>4540</td>\n",
              "      <td>-1.199932</td>\n",
              "    </tr>\n",
              "    <tr>\n",
              "      <th>6</th>\n",
              "      <td>2018-11-04 02:00:00</td>\n",
              "      <td>122</td>\n",
              "      <td>3946</td>\n",
              "      <td>-0.076185</td>\n",
              "    </tr>\n",
              "    <tr>\n",
              "      <th>7</th>\n",
              "      <td>2018-11-04 03:00:00</td>\n",
              "      <td>275</td>\n",
              "      <td>5456</td>\n",
              "      <td>1.399556</td>\n",
              "    </tr>\n",
              "    <tr>\n",
              "      <th>8</th>\n",
              "      <td>2018-11-04 04:00:00</td>\n",
              "      <td>208</td>\n",
              "      <td>6011</td>\n",
              "      <td>0.202959</td>\n",
              "    </tr>\n",
              "  </tbody>\n",
              "</table>\n",
              "</div>"
            ],
            "text/plain": [
              "                 date  sum  count  lebron_norm\n",
              "0 2018-11-03 20:00:00   19    334     1.890539\n",
              "1 2018-11-03 21:00:00  121   3595     0.131362\n",
              "2 2018-11-03 22:00:00   99   4878    -0.880644\n",
              "3 2018-11-03 23:00:00   55   2875    -0.968857\n",
              "4 2018-11-04 00:00:00   62   2447    -0.498798\n",
              "5 2018-11-04 01:00:00   73   4540    -1.199932\n",
              "6 2018-11-04 02:00:00  122   3946    -0.076185\n",
              "7 2018-11-04 03:00:00  275   5456     1.399556\n",
              "8 2018-11-04 04:00:00  208   6011     0.202959"
            ]
          },
          "metadata": {
            "tags": []
          },
          "execution_count": 32
        }
      ]
    },
    {
      "metadata": {
        "id": "E6SfzuBeMURK",
        "colab_type": "code",
        "outputId": "19ce869f-a0c2-4841-b8f1-a7f7dd3306e8",
        "colab": {
          "base_uri": "https://localhost:8080/",
          "height": 372
        }
      },
      "cell_type": "code",
      "source": [
        "hour_tweets.plot(x='date', y='lebron_norm', color='r');"
      ],
      "execution_count": 0,
      "outputs": [
        {
          "output_type": "display_data",
          "data": {
            "image/png": "[encoded data removed]",
            "text/plain": [
              "<matplotlib.figure.Figure at 0x7fed6506a5f8>"
            ]
          },
          "metadata": {
            "tags": []
          }
        }
      ]
    }
  ]
}