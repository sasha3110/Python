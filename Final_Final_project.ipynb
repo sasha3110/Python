{
  "nbformat": 4,
  "nbformat_minor": 0,
  "metadata": {
    "colab": {
      "name": "Final Final project.ipynb",
      "version": "0.3.2",
      "provenance": [],
      "collapsed_sections": []
    },
    "kernelspec": {
      "name": "python3",
      "display_name": "Python 3"
    }
  },
  "cells": [
    {
      "metadata": {
        "id": "Uw3RFczJISR9",
        "colab_type": "code",
        "outputId": "66cc622f-125b-4bde-ab30-b31726e966c9",
        "colab": {
          "base_uri": "https://localhost:8080/",
          "height": 122
        }
      },
      "cell_type": "code",
      "source": [
        "from google.colab import drive\n",
        "drive.mount('/content/drive')"
      ],
      "execution_count": 0,
      "outputs": [
        {
          "output_type": "stream",
          "text": [
            "Go to this URL in a browser: https://accounts.google.com/o/oauth2/auth?client_id=947318989803-6bn6qk8qdgf4n4g3pfee6491hc0brc4i.apps.googleusercontent.com&redirect_uri=urn%3Aietf%3Awg%3Aoauth%3A2.0%3Aoob&scope=email%20https%3A%2F%2Fwww.googleapis.com%2Fauth%2Fdocs.test%20https%3A%2F%2Fwww.googleapis.com%2Fauth%2Fdrive%20https%3A%2F%2Fwww.googleapis.com%2Fauth%2Fdrive.photos.readonly%20https%3A%2F%2Fwww.googleapis.com%2Fauth%2Fpeopleapi.readonly&response_type=code\n",
            "\n",
            "Enter your authorization code:\n",
            "··········\n",
            "Mounted at /content/drive\n"
          ],
          "name": "stdout"
        }
      ]
    },
    {
      "metadata": {
        "id": "ZQQdSilJIT2b",
        "colab_type": "code",
        "colab": {}
      },
      "cell_type": "code",
      "source": [
        "import os\n",
        "os.chdir('/content/drive/My Drive/ML')"
      ],
      "execution_count": 0,
      "outputs": []
    },
    {
      "metadata": {
        "id": "6cPnnxW6IpJx",
        "colab_type": "text"
      },
      "cell_type": "markdown",
      "source": [
        "# LSTM text classifier by Oleksandra Oleksiichuk\n",
        "RNN model to classify a text as one of 4 genres and compare the result to **Naive Bayes model accuracy of  0.69**"
      ]
    },
    {
      "metadata": {
        "id": "UEP-Y4OEgTan",
        "colab_type": "text"
      },
      "cell_type": "markdown",
      "source": [
        "### Importing libraries"
      ]
    },
    {
      "metadata": {
        "id": "MNRqpYajI6jH",
        "colab_type": "code",
        "outputId": "8c18950d-aeac-4df8-fb16-7ea697774e11",
        "colab": {
          "base_uri": "https://localhost:8080/",
          "height": 51
        }
      },
      "cell_type": "code",
      "source": [
        "import re\n",
        "import nltk\n",
        "import string\n",
        "import numpy as np\n",
        "import pandas as pd\n",
        "import seaborn as sns\n",
        "import matplotlib.pyplot as plt\n",
        "nltk.download('stopwords')\n",
        "from bs4 import BeautifulSoup\n",
        "from nltk.corpus import stopwords\n",
        "from nltk.stem import SnowballStemmer\n",
        "from gensim.models import KeyedVectors\n",
        "\n",
        "# Sklearn\n",
        "from sklearn.metrics import f1_score\n",
        "from sklearn.metrics import classification_report\n",
        "from sklearn.metrics import confusion_matrix\n",
        "from sklearn.preprocessing import LabelEncoder\n",
        "from sklearn.model_selection import train_test_split\n",
        "\n",
        "# Keras\n",
        "from keras.preprocessing.text import Tokenizer\n",
        "from keras.preprocessing.sequence import pad_sequences\n",
        "from keras.utils.np_utils import to_categorical\n",
        "from keras.models import Sequential\n",
        "from keras.models import Model\n",
        "from keras.layers import LSTM, Activation, Dense, Dropout, Input, Embedding, SpatialDropout1D\n",
        "from keras.optimizers import RMSprop, Adam\n",
        "from keras import backend as K\n",
        "\n",
        "\n",
        "%matplotlib inline"
      ],
      "execution_count": 0,
      "outputs": [
        {
          "output_type": "stream",
          "text": [
            "[nltk_data] Downloading package stopwords to /root/nltk_data...\n",
            "[nltk_data]   Package stopwords is already up-to-date!\n"
          ],
          "name": "stdout"
        }
      ]
    },
    {
      "metadata": {
        "id": "RbsutXDSq5H5",
        "colab_type": "text"
      },
      "cell_type": "markdown",
      "source": [
        "### Preprocessing text"
      ]
    },
    {
      "metadata": {
        "id": "Mlge_oaoTI22",
        "colab_type": "code",
        "colab": {}
      },
      "cell_type": "code",
      "source": [
        "# Genres where I added more texts for better accuracy with EXACT number for each genre\n",
        "genres = ['DETECT', 'FANTAST', 'RELIGION', 'TALES']"
      ],
      "execution_count": 0,
      "outputs": []
    },
    {
      "metadata": {
        "id": "SJYkKIzwRzcY",
        "colab_type": "code",
        "colab": {}
      },
      "cell_type": "code",
      "source": [
        "# creating a dictionary with genres as keys and texts as values\n",
        "import glob\n",
        "path = 'ENGLISH/'\n",
        "texts = {}\n",
        "\n",
        "for genre in genres:\n",
        "  texts[genre] = {}\n",
        "  inpath = path + genre\n",
        "  for filename in glob.glob(os.path.join(inpath, '*.TXT')):    \n",
        "    try:\n",
        "      with open(filename, 'r', encoding='utf-8') as f:      \n",
        "        texts[genre][filename.split('/')[-1]] = ''.join(f.readlines())\n",
        "    except:      \n",
        "      with open(filename, 'r', encoding='latin-1') as f:      \n",
        "        texts[genre][filename.split('/')[-1]] = ''.join(f.readlines())\n",
        "      "
      ],
      "execution_count": 0,
      "outputs": []
    },
    {
      "metadata": {
        "id": "B-HjRDs0UW9i",
        "colab_type": "code",
        "outputId": "956da7ba-95a1-4285-c986-a29af677f3f2",
        "colab": {
          "base_uri": "https://localhost:8080/",
          "height": 85
        }
      },
      "cell_type": "code",
      "source": [
        "# number of texts in each selected genre\n",
        "for genre in texts:\n",
        "  print(genre + \": \" + str(len(texts[genre])))\n",
        "  "
      ],
      "execution_count": 0,
      "outputs": [
        {
          "output_type": "stream",
          "text": [
            "DETECT: 28\n",
            "FANTAST: 28\n",
            "RELIGION: 28\n",
            "TALES: 28\n"
          ],
          "name": "stdout"
        }
      ]
    },
    {
      "metadata": {
        "id": "Wh1RasLJcM6D",
        "colab_type": "code",
        "colab": {}
      },
      "cell_type": "code",
      "source": [
        "def clean_text(text):\n",
        "    # Remove links\n",
        "    text = BeautifulSoup(text, 'html.parser').get_text()\n",
        "    \n",
        "    # Remove punctuation\n",
        "    text = text.translate(string.punctuation)\n",
        "    \n",
        "    # Convert words to lower case and split them\n",
        "    text = text.lower().split()\n",
        "    \n",
        "    # Remove stop words\n",
        "    stops = set(stopwords.words(\"english\"))\n",
        "    text = [w for w in text if not w in stops]\n",
        "    \n",
        "    text = \" \".join(text)\n",
        "    \n",
        "    # Clean the text\n",
        "    text = re.sub(r\"can't\", \"cannot \", text)\n",
        "    text = re.sub(r\"what's\", \"what is \", text)\n",
        "    text = re.sub(r\"\\'s\", \" \", text)\n",
        "    text = re.sub(r\"\\'ve\", \" have \", text)\n",
        "    text = re.sub(r\"n't\", \" not \", text)\n",
        "    text = re.sub(r\"i'm\", \"i am \", text)\n",
        "    text = re.sub(r\"\\'re\", \" are \", text)\n",
        "    text = re.sub(r\"\\'d\", \" would \", text)\n",
        "    text = re.sub(r\"\\'ll\", \" will \", text)\n",
        "    text = re.sub(\"([^0-9A-Za-z \\t])|(\\w+:\\/\\/\\S+)\", \" \", text)\n",
        "    \n",
        "    # Stemming\n",
        "    text = text.split()\n",
        "    stemmer = SnowballStemmer('english')\n",
        "    stemmed_words = [stemmer.stem(word) for word in text]\n",
        "    text = \" \".join(stemmed_words)\n",
        "    return text"
      ],
      "execution_count": 0,
      "outputs": []
    },
    {
      "metadata": {
        "id": "widNZntBcTnl",
        "colab_type": "code",
        "outputId": "b9a99f85-7bb4-46a8-ce0f-3a85b6699d91",
        "colab": {
          "base_uri": "https://localhost:8080/",
          "height": 34
        }
      },
      "cell_type": "code",
      "source": [
        "# cleaning all texts\n",
        "for genre in texts:\n",
        "  for text in texts[genre]:    \n",
        "    texts[genre][text] = clean_text(texts[genre][text])\n",
        "    \n",
        "print('Finished cleaning')  "
      ],
      "execution_count": 0,
      "outputs": [
        {
          "output_type": "stream",
          "text": [
            "Finished cleaning\n"
          ],
          "name": "stdout"
        }
      ]
    },
    {
      "metadata": {
        "id": "5iSwz-invlkB",
        "colab_type": "text"
      },
      "cell_type": "markdown",
      "source": [
        "### Creating a Data Frame"
      ]
    },
    {
      "metadata": {
        "id": "8o8udiNTGzns",
        "colab_type": "code",
        "colab": {}
      },
      "cell_type": "code",
      "source": [
        "# creating a data frame with text and labels columns\n",
        "columns = ['text', 'labels']\n",
        "df = pd.DataFrame(columns=columns)"
      ],
      "execution_count": 0,
      "outputs": []
    },
    {
      "metadata": {
        "id": "Y5n0UpZ9PqjO",
        "colab_type": "code",
        "colab": {}
      },
      "cell_type": "code",
      "source": [
        "for genre in texts:\n",
        "  for text in texts[genre]: \n",
        "    df = df.append({'text': texts[genre][text], 'labels': genre}, ignore_index=True)"
      ],
      "execution_count": 0,
      "outputs": []
    },
    {
      "metadata": {
        "id": "loQYmOsBKViE",
        "colab_type": "code",
        "outputId": "8a65f20f-4ce6-4f24-97bf-2bcaa8eba13a",
        "colab": {
          "base_uri": "https://localhost:8080/",
          "height": 204
        }
      },
      "cell_type": "code",
      "source": [
        "df.head()"
      ],
      "execution_count": 0,
      "outputs": [
        {
          "output_type": "execute_result",
          "data": {
            "text/html": [
              "<div>\n",
              "<style scoped>\n",
              "    .dataframe tbody tr th:only-of-type {\n",
              "        vertical-align: middle;\n",
              "    }\n",
              "\n",
              "    .dataframe tbody tr th {\n",
              "        vertical-align: top;\n",
              "    }\n",
              "\n",
              "    .dataframe thead th {\n",
              "        text-align: right;\n",
              "    }\n",
              "</style>\n",
              "<table border=\"1\" class=\"dataframe\">\n",
              "  <thead>\n",
              "    <tr style=\"text-align: right;\">\n",
              "      <th></th>\n",
              "      <th>text</th>\n",
              "      <th>labels</th>\n",
              "    </tr>\n",
              "  </thead>\n",
              "  <tbody>\n",
              "    <tr>\n",
              "      <th>0</th>\n",
              "      <td>cockoo egg clifford stoll week befor astronom ...</td>\n",
              "      <td>DETECT</td>\n",
              "    </tr>\n",
              "    <tr>\n",
              "      <th>1</th>\n",
              "      <td>obi doyl valley of fear txt part 1 tragedi bir...</td>\n",
              "      <td>DETECT</td>\n",
              "    </tr>\n",
              "    <tr>\n",
              "      <th>2</th>\n",
              "      <td>the memoir sherlock holm arthur conan doyl obi...</td>\n",
              "      <td>DETECT</td>\n",
              "    </tr>\n",
              "    <tr>\n",
              "      <th>3</th>\n",
              "      <td>his last bow arthur conan doyl obi doyl his la...</td>\n",
              "      <td>DETECT</td>\n",
              "    </tr>\n",
              "    <tr>\n",
              "      <th>4</th>\n",
              "      <td>obi doyl hound of baskervill txt chapter 1 mr ...</td>\n",
              "      <td>DETECT</td>\n",
              "    </tr>\n",
              "  </tbody>\n",
              "</table>\n",
              "</div>"
            ],
            "text/plain": [
              "                                                text  labels\n",
              "0  cockoo egg clifford stoll week befor astronom ...  DETECT\n",
              "1  obi doyl valley of fear txt part 1 tragedi bir...  DETECT\n",
              "2  the memoir sherlock holm arthur conan doyl obi...  DETECT\n",
              "3  his last bow arthur conan doyl obi doyl his la...  DETECT\n",
              "4  obi doyl hound of baskervill txt chapter 1 mr ...  DETECT"
            ]
          },
          "metadata": {
            "tags": []
          },
          "execution_count": 94
        }
      ]
    },
    {
      "metadata": {
        "id": "YWPeFp_dv00i",
        "colab_type": "text"
      },
      "cell_type": "markdown",
      "source": [
        "### Encoding text and labels"
      ]
    },
    {
      "metadata": {
        "id": "BBlMikztHP_C",
        "colab_type": "code",
        "colab": {}
      },
      "cell_type": "code",
      "source": [
        "# encoding labels and splitting data to test and train sets\n",
        "X = df.text.values\n",
        "Y = df['labels'].values\n",
        "\n",
        "X_train, X_test, Y_train, Y_test = train_test_split(X, Y, test_size=0.1)\n",
        "\n",
        "encoder = LabelEncoder()\n",
        "train_labels = encoder.fit_transform(Y_train)\n",
        "test_labels = encoder.fit_transform(Y_test)\n",
        "\n",
        "train_labels = train_labels.reshape(-1,1)\n",
        "test_labels = test_labels.reshape(-1,1)\n",
        "\n",
        "train_labels = to_categorical(train_labels)\n",
        "test_labels = to_categorical(test_labels)"
      ],
      "execution_count": 0,
      "outputs": []
    },
    {
      "metadata": {
        "id": "eAcBVfPodRld",
        "colab_type": "code",
        "outputId": "d9474bb9-f154-40b1-ce9c-aa0db30e98c7",
        "colab": {
          "base_uri": "https://localhost:8080/",
          "height": 34
        }
      },
      "cell_type": "code",
      "source": [
        "test_labels.shape"
      ],
      "execution_count": 0,
      "outputs": [
        {
          "output_type": "execute_result",
          "data": {
            "text/plain": [
              "(12, 4)"
            ]
          },
          "metadata": {
            "tags": []
          },
          "execution_count": 96
        }
      ]
    },
    {
      "metadata": {
        "id": "q_kpfCWPJUA5",
        "colab_type": "code",
        "outputId": "7ccd86bd-8ab6-4b7a-b5de-d34cf16a26e2",
        "colab": {
          "base_uri": "https://localhost:8080/",
          "height": 34
        }
      },
      "cell_type": "code",
      "source": [
        "# Create sequences for train and test sets\n",
        "MAX_WORDS = 60000\n",
        "EMBEDDING_DIM = 300\n",
        "tok = Tokenizer(num_words=MAX_WORDS)\n",
        "tok.fit_on_texts(X)\n",
        "sequences = tok.texts_to_sequences(X_train)\n",
        "word_index = tok.word_index\n",
        "print('Found %s unique tokens' % len(word_index))"
      ],
      "execution_count": 0,
      "outputs": [
        {
          "output_type": "stream",
          "text": [
            "Found 52507 unique tokens\n"
          ],
          "name": "stdout"
        }
      ]
    },
    {
      "metadata": {
        "id": "i3kfzu7s3J63",
        "colab_type": "code",
        "outputId": "33191cb1-1328-417b-88d0-db4f1ebaa66e",
        "colab": {
          "base_uri": "https://localhost:8080/",
          "height": 153
        }
      },
      "cell_type": "code",
      "source": [
        "MAX_SEQUENCE_LENGTH = 5000\n",
        "sequences_matrix = pad_sequences(sequences, maxlen=MAX_SEQUENCE_LENGTH)\n",
        "print(sequences_matrix)\n",
        "print('Shape of data tensor:', sequences_matrix.shape)"
      ],
      "execution_count": 0,
      "outputs": [
        {
          "output_type": "stream",
          "text": [
            "[[   38   350   602 ...   382  1348  2980]\n",
            " [ 1075  6931   100 ...   227   243  1017]\n",
            " [  272  2513    34 ...   163 11144   181]\n",
            " ...\n",
            " [13777  5764  1954 ...   227   243  1017]\n",
            " [   30    13  1070 ...  1387  2057  1017]\n",
            " [ 2223   497  1640 ...   140     5    14]]\n",
            "Shape of data tensor: (100, 5000)\n"
          ],
          "name": "stdout"
        }
      ]
    },
    {
      "metadata": {
        "id": "zxQ_4_Vd4fxa",
        "colab_type": "code",
        "colab": {}
      },
      "cell_type": "code",
      "source": [
        "test_sequences = tok.texts_to_sequences(X_test)\n",
        "test_sequences_matrix = pad_sequences(test_sequences,maxlen=MAX_SEQUENCE_LENGTH)"
      ],
      "execution_count": 0,
      "outputs": []
    },
    {
      "metadata": {
        "id": "_F1pKjw33OU8",
        "colab_type": "code",
        "outputId": "47482e91-7015-44a9-a5d2-d31a28260d12",
        "colab": {
          "base_uri": "https://localhost:8080/",
          "height": 34
        }
      },
      "cell_type": "code",
      "source": [
        "nb_words = min(MAX_WORDS, len(word_index))+1\n",
        "print(nb_words)"
      ],
      "execution_count": 0,
      "outputs": [
        {
          "output_type": "stream",
          "text": [
            "52508\n"
          ],
          "name": "stdout"
        }
      ]
    },
    {
      "metadata": {
        "id": "ddLJ7XI46iKU",
        "colab_type": "text"
      },
      "cell_type": "markdown",
      "source": [
        "### Building a model"
      ]
    },
    {
      "metadata": {
        "id": "nSzccuyQjQIk",
        "colab_type": "text"
      },
      "cell_type": "markdown",
      "source": [
        "Making a base model"
      ]
    },
    {
      "metadata": {
        "id": "6Bw5hX2BFVfe",
        "colab_type": "code",
        "colab": {}
      },
      "cell_type": "code",
      "source": [
        "model = Sequential()\n",
        "model.add(Embedding(nb_words, 300, input_length=MAX_SEQUENCE_LENGTH))\n",
        "model.add(LSTM(64))\n",
        "model.add(Dense(256,activation='relu'))\n",
        "model.add(Dropout(0.5))\n",
        "model.add(Dense(64,activation='relu'))\n",
        "model.add(Dropout(0.5))\n",
        "model.add(Dense(4, activation='softmax'))\n"
      ],
      "execution_count": 0,
      "outputs": []
    },
    {
      "metadata": {
        "id": "snNlnLho8iMD",
        "colab_type": "text"
      },
      "cell_type": "markdown",
      "source": [
        "### Compiling a model"
      ]
    },
    {
      "metadata": {
        "id": "c2aevVh48hXF",
        "colab_type": "code",
        "colab": {}
      },
      "cell_type": "code",
      "source": [
        "model.compile(loss='categorical_crossentropy',\n",
        "              optimizer='adam',\n",
        "              metrics=['accuracy'])\n",
        "              "
      ],
      "execution_count": 0,
      "outputs": []
    },
    {
      "metadata": {
        "id": "Q83_6MK39L7S",
        "colab_type": "text"
      },
      "cell_type": "markdown",
      "source": [
        "### Training a model"
      ]
    },
    {
      "metadata": {
        "id": "U56dgZPW9Jm-",
        "colab_type": "code",
        "colab": {}
      },
      "cell_type": "code",
      "source": [
        "hist = model.fit(sequences_matrix, train_labels,\n",
        "                 batch_size=50,\n",
        "                 epochs=20,\n",
        "                 verbose=0,\n",
        "                 validation_split=0.1)"
      ],
      "execution_count": 0,
      "outputs": []
    },
    {
      "metadata": {
        "id": "8Aktn7t773RO",
        "colab_type": "code",
        "outputId": "1129f516-a07c-4339-cc74-8bf14ab1c1cc",
        "colab": {
          "base_uri": "https://localhost:8080/",
          "height": 34
        }
      },
      "cell_type": "code",
      "source": [
        "# checking the history\n",
        "history_dict = hist.history\n",
        "history_dict.keys()"
      ],
      "execution_count": 0,
      "outputs": [
        {
          "output_type": "execute_result",
          "data": {
            "text/plain": [
              "dict_keys(['val_loss', 'val_acc', 'loss', 'acc'])"
            ]
          },
          "metadata": {
            "tags": []
          },
          "execution_count": 104
        }
      ]
    },
    {
      "metadata": {
        "id": "aH72JCM38bzx",
        "colab_type": "text"
      },
      "cell_type": "markdown",
      "source": [
        "**Plotting the training and validation loss**"
      ]
    },
    {
      "metadata": {
        "id": "RuvsUVd-8KFG",
        "colab_type": "code",
        "outputId": "d483edd4-01e0-4071-bf32-f6060cafa932",
        "colab": {
          "base_uri": "https://localhost:8080/",
          "height": 294
        }
      },
      "cell_type": "code",
      "source": [
        "loss_values = history_dict['loss']\n",
        "val_loss_values = history_dict['val_loss']\n",
        "\n",
        "epochs = range(1, len(loss_values) + 1)\n",
        "\n",
        "plt.plot(epochs, loss_values, 'bo', label='Training loss')\n",
        "plt.plot(epochs, val_loss_values, 'b', label='Validation loss')\n",
        "plt.title('Training and validation loss')\n",
        "plt.xlabel('Epochs')\n",
        "plt.ylabel('Loss')\n",
        "plt.legend()\n",
        "\n",
        "plt.show()"
      ],
      "execution_count": 0,
      "outputs": [
        {
          "output_type": "display_data",
          "data": {
            "image/png": "[encoded data removed]",
            "text/plain": [
              "<Figure size 432x288 with 1 Axes>"
            ]
          },
          "metadata": {
            "tags": []
          }
        }
      ]
    },
    {
      "metadata": {
        "id": "N-Q6pE1xap0u",
        "colab_type": "text"
      },
      "cell_type": "markdown",
      "source": [
        "After 15 epochs model is overfitting"
      ]
    },
    {
      "metadata": {
        "id": "QmwKFPOp8hGD",
        "colab_type": "text"
      },
      "cell_type": "markdown",
      "source": [
        "**Plotting the training and validation accuracy**"
      ]
    },
    {
      "metadata": {
        "id": "6b8qtm4v8QIa",
        "colab_type": "code",
        "outputId": "b7de5598-404c-4cc1-bf30-98dd6415ab47",
        "colab": {
          "base_uri": "https://localhost:8080/",
          "height": 294
        }
      },
      "cell_type": "code",
      "source": [
        "plt.clf()\n",
        "acc_values = history_dict['acc']\n",
        "val_acc_values = history_dict['val_acc']\n",
        "\n",
        "plt.plot(epochs, acc_values, 'bo', label='Training acc')\n",
        "plt.plot(epochs, val_acc_values, 'b', label='Validation acc')\n",
        "plt.title('Training and validation accuracy')\n",
        "plt.xlabel('Epochs')\n",
        "plt.ylabel('Acc')\n",
        "plt.legend()\n",
        "\n",
        "plt.show()"
      ],
      "execution_count": 0,
      "outputs": [
        {
          "output_type": "display_data",
          "data": {
            "image/png": "[encoded data removed]",
            "text/plain": [
              "<Figure size 432x288 with 1 Axes>"
            ]
          },
          "metadata": {
            "tags": []
          }
        }
      ]
    },
    {
      "metadata": {
        "id": "ujIJ8x1fGPwk",
        "colab_type": "code",
        "outputId": "c305f813-8ac0-45f9-b342-46abfc8c30e6",
        "colab": {
          "base_uri": "https://localhost:8080/",
          "height": 51
        }
      },
      "cell_type": "code",
      "source": [
        "accr = model.evaluate(test_sequences_matrix, test_labels)\n",
        "print(accr)"
      ],
      "execution_count": 0,
      "outputs": [
        {
          "output_type": "stream",
          "text": [
            "\r12/12 [==============================] - 1s 77ms/step\n",
            "[1.1173696517944336, 0.3333333432674408]\n"
          ],
          "name": "stdout"
        }
      ]
    },
    {
      "metadata": {
        "id": "85QQhmcLuI5W",
        "colab_type": "text"
      },
      "cell_type": "markdown",
      "source": [
        "## Building a new model"
      ]
    },
    {
      "metadata": {
        "id": "wZ_JJAf9aH1r",
        "colab_type": "text"
      },
      "cell_type": "markdown",
      "source": [
        "### Using GridSearch to find best parameters"
      ]
    },
    {
      "metadata": {
        "id": "d_puS3ZVY22o",
        "colab_type": "code",
        "colab": {}
      },
      "cell_type": "code",
      "source": [
        "from keras.wrappers.scikit_learn import KerasClassifier\n",
        "from sklearn.model_selection import GridSearchCV\n",
        "\n",
        "def create_network(optimizer='rmsprop'):\n",
        "  model = Sequential()\n",
        "  model.add(Embedding(nb_words, 300, input_length=MAX_SEQUENCE_LENGTH))\n",
        "  model.add(LSTM(64, dropout=0.2, recurrent_dropout=0.2))\n",
        "  model.add(Dense(4, activation='softmax'))\n",
        "\n",
        "  model.compile(loss='categorical_crossentropy',\n",
        "                optimizer=optimizer,\n",
        "                metrics=['accuracy'])\n",
        "  \n",
        "  return model\n",
        "\n",
        "neural_network = KerasClassifier(build_fn=create_network, verbose=1)\n",
        "\n",
        "epochs = [5, 10, 15]\n",
        "batches = [10, 20, 50]\n",
        "optimizers = ['rmsprop', 'adam']\n",
        "\n",
        "hyperparams = dict(optimizer=optimizers, epochs=epochs, batch_size=batches)"
      ],
      "execution_count": 0,
      "outputs": []
    },
    {
      "metadata": {
        "id": "LT-JSV0kbwO_",
        "colab_type": "code",
        "colab": {}
      },
      "cell_type": "code",
      "source": [
        "grid = GridSearchCV(estimator=neural_network, param_grid=hyperparams)"
      ],
      "execution_count": 0,
      "outputs": []
    },
    {
      "metadata": {
        "id": "WcUAdRpZ34xo",
        "colab_type": "code",
        "colab": {}
      },
      "cell_type": "code",
      "source": [
        "grid_result = grid.fit(sequences_matrix, train_labels)\n",
        "print(\"Best: %f using %s\" % (grid_result.best_score_, grid_result.best_params_))"
      ],
      "execution_count": 0,
      "outputs": []
    },
    {
      "metadata": {
        "id": "wU7AaoTbcMof",
        "colab_type": "code",
        "outputId": "fb7dbba1-42ff-4196-c72a-369e4b5a1b77",
        "colab": {
          "base_uri": "https://localhost:8080/",
          "height": 34
        }
      },
      "cell_type": "code",
      "source": [
        "# View hyperparameters of best neural network\n",
        "\n",
        "grid_result.best_params_"
      ],
      "execution_count": 0,
      "outputs": [
        {
          "output_type": "execute_result",
          "data": {
            "text/plain": [
              "{'batch_size': 20, 'epochs': 15, 'optimizer': 'rmsprop'}"
            ]
          },
          "metadata": {
            "tags": []
          },
          "execution_count": 22
        }
      ]
    },
    {
      "metadata": {
        "id": "5Ij9VbcfI8I7",
        "colab_type": "code",
        "colab": {}
      },
      "cell_type": "code",
      "source": [
        "model = Sequential()\n",
        "model.add(Embedding(nb_words, 300, input_length=MAX_SEQUENCE_LENGTH))\n",
        "model.add(LSTM(64, dropout=0.5, recurrent_dropout=0.5))\n",
        "model.add(Dense(4, activation='softmax'))\n",
        "\n",
        "model.compile(loss='categorical_crossentropy',\n",
        "              optimizer='rmsprop',\n",
        "              metrics=['accuracy'])"
      ],
      "execution_count": 0,
      "outputs": []
    },
    {
      "metadata": {
        "id": "X45BIKMkJQLr",
        "colab_type": "code",
        "outputId": "d72411f3-a852-440f-dec5-75b7e227d06f",
        "colab": {
          "base_uri": "https://localhost:8080/",
          "height": 544
        }
      },
      "cell_type": "code",
      "source": [
        "hist = model.fit(sequences_matrix, train_labels,\n",
        "                 batch_size=20,\n",
        "                 epochs=15,\n",
        "                 #verbose=0,\n",
        "                 validation_split=0.1)"
      ],
      "execution_count": 0,
      "outputs": [
        {
          "output_type": "stream",
          "text": [
            "Train on 90 samples, validate on 10 samples\n",
            "Epoch 1/15\n",
            "90/90 [==============================] - 35s 387ms/step - loss: 1.3817 - acc: 0.2333 - val_loss: 1.3646 - val_acc: 0.2000\n",
            "Epoch 2/15\n",
            "90/90 [==============================] - 32s 360ms/step - loss: 1.3304 - acc: 0.6000 - val_loss: 1.3298 - val_acc: 0.2000\n",
            "Epoch 3/15\n",
            "90/90 [==============================] - 33s 366ms/step - loss: 1.2666 - acc: 0.7111 - val_loss: 1.2650 - val_acc: 0.5000\n",
            "Epoch 4/15\n",
            "90/90 [==============================] - 33s 361ms/step - loss: 1.1839 - acc: 0.6778 - val_loss: 1.2123 - val_acc: 0.5000\n",
            "Epoch 5/15\n",
            "90/90 [==============================] - 32s 360ms/step - loss: 1.0978 - acc: 0.6778 - val_loss: 1.1746 - val_acc: 0.5000\n",
            "Epoch 6/15\n",
            "90/90 [==============================] - 33s 362ms/step - loss: 1.0357 - acc: 0.6889 - val_loss: 1.1070 - val_acc: 0.5000\n",
            "Epoch 7/15\n",
            "90/90 [==============================] - 33s 364ms/step - loss: 0.9686 - acc: 0.7444 - val_loss: 1.1326 - val_acc: 0.5000\n",
            "Epoch 8/15\n",
            "90/90 [==============================] - 33s 362ms/step - loss: 0.9033 - acc: 0.6889 - val_loss: 1.2091 - val_acc: 0.2000\n",
            "Epoch 9/15\n",
            "90/90 [==============================] - 32s 358ms/step - loss: 0.8635 - acc: 0.7333 - val_loss: 1.1465 - val_acc: 0.4000\n",
            "Epoch 10/15\n",
            "90/90 [==============================] - 32s 359ms/step - loss: 0.8200 - acc: 0.7222 - val_loss: 1.2447 - val_acc: 0.2000\n",
            "Epoch 11/15\n",
            "90/90 [==============================] - 32s 357ms/step - loss: 0.8049 - acc: 0.7444 - val_loss: 1.2049 - val_acc: 0.3000\n",
            "Epoch 12/15\n",
            "90/90 [==============================] - 33s 361ms/step - loss: 0.6946 - acc: 0.7667 - val_loss: 1.2179 - val_acc: 0.3000\n",
            "Epoch 13/15\n",
            "90/90 [==============================] - 32s 357ms/step - loss: 0.6647 - acc: 0.7667 - val_loss: 1.2539 - val_acc: 0.3000\n",
            "Epoch 14/15\n",
            "90/90 [==============================] - 32s 357ms/step - loss: 0.6094 - acc: 0.7889 - val_loss: 1.1549 - val_acc: 0.3000\n",
            "Epoch 15/15\n",
            "90/90 [==============================] - 32s 361ms/step - loss: 0.5915 - acc: 0.7667 - val_loss: 1.2336 - val_acc: 0.3000\n"
          ],
          "name": "stdout"
        }
      ]
    },
    {
      "metadata": {
        "id": "aMwLHbeSWbMl",
        "colab_type": "code",
        "outputId": "1bcb3d2a-53b0-4317-9a9e-8ca47d5e4813",
        "colab": {
          "base_uri": "https://localhost:8080/",
          "height": 294
        }
      },
      "cell_type": "code",
      "source": [
        "# Loss\n",
        "history_dict = hist.history\n",
        "\n",
        "loss_values = history_dict['loss']\n",
        "val_loss_values = history_dict['val_loss']\n",
        "\n",
        "epochs = range(1, len(loss_values) + 1)\n",
        "\n",
        "plt.plot(epochs, loss_values, 'bo', label='Training loss')\n",
        "plt.plot(epochs, val_loss_values, 'b', label='Validation loss')\n",
        "plt.title('Training and validation loss')\n",
        "plt.xlabel('Epochs')\n",
        "plt.ylabel('Loss')\n",
        "plt.legend()\n",
        "\n",
        "plt.show()"
      ],
      "execution_count": 0,
      "outputs": [
        {
          "output_type": "display_data",
          "data": {
            "image/png": "[encoded data removed]",
            "text/plain": [
              "<Figure size 432x288 with 1 Axes>"
            ]
          },
          "metadata": {
            "tags": []
          }
        }
      ]
    },
    {
      "metadata": {
        "id": "ospGBmJFWfM0",
        "colab_type": "code",
        "outputId": "12e42484-4177-47eb-b347-fbc89f9597a9",
        "colab": {
          "base_uri": "https://localhost:8080/",
          "height": 294
        }
      },
      "cell_type": "code",
      "source": [
        "# Accuracy\n",
        "plt.clf()\n",
        "acc_values = history_dict['acc']\n",
        "val_acc_values = history_dict['val_acc']\n",
        "\n",
        "plt.plot(epochs, acc_values, 'bo', label='Training acc')\n",
        "plt.plot(epochs, val_acc_values, 'b', label='Validation acc')\n",
        "plt.title('Training and validation accuracy')\n",
        "plt.xlabel('Epochs')\n",
        "plt.ylabel('Accuracy')\n",
        "plt.legend()\n",
        "\n",
        "plt.show()"
      ],
      "execution_count": 0,
      "outputs": [
        {
          "output_type": "display_data",
          "data": {
            "image/png": "[encoded data removed]",
            "text/plain": [
              "<Figure size 432x288 with 1 Axes>"
            ]
          },
          "metadata": {
            "tags": []
          }
        }
      ]
    },
    {
      "metadata": {
        "id": "LX3WBS5SzONR",
        "colab_type": "text"
      },
      "cell_type": "markdown",
      "source": [
        "## Model evaluation"
      ]
    },
    {
      "metadata": {
        "id": "OJeLAZAYzYgY",
        "colab_type": "code",
        "outputId": "9225a6c5-4bbd-4b30-d83d-cbb579641b0b",
        "colab": {
          "base_uri": "https://localhost:8080/",
          "height": 51
        }
      },
      "cell_type": "code",
      "source": [
        "accr = model.evaluate(test_sequences_matrix, test_labels)\n",
        "print(accr)"
      ],
      "execution_count": 0,
      "outputs": [
        {
          "output_type": "stream",
          "text": [
            "\r12/12 [==============================] - 1s 82ms/step\n",
            "[1.0290836095809937, 0.5]\n"
          ],
          "name": "stdout"
        }
      ]
    },
    {
      "metadata": {
        "id": "N3EHc7QHnRey",
        "colab_type": "code",
        "outputId": "fe9a403c-2413-44a4-9179-f1bfce4deb4e",
        "colab": {
          "base_uri": "https://localhost:8080/",
          "height": 68
        }
      },
      "cell_type": "code",
      "source": [
        "Y_test"
      ],
      "execution_count": 0,
      "outputs": [
        {
          "output_type": "execute_result",
          "data": {
            "text/plain": [
              "array(['DETECT', 'TALES', 'RELIGION', 'TALES', 'RELIGION', 'RELIGION',\n",
              "       'DETECT', 'FANTAST', 'TALES', 'TALES', 'TALES', 'DETECT'],\n",
              "      dtype=object)"
            ]
          },
          "metadata": {
            "tags": []
          },
          "execution_count": 43
        }
      ]
    },
    {
      "metadata": {
        "id": "LPjQl3br_X0V",
        "colab_type": "text"
      },
      "cell_type": "markdown",
      "source": [
        "## Confusion matrix"
      ]
    },
    {
      "metadata": {
        "id": "rwginVHl_byE",
        "colab_type": "code",
        "outputId": "c4c4a867-d758-4906-d8c7-54084de63b88",
        "colab": {
          "base_uri": "https://localhost:8080/",
          "height": 68
        }
      },
      "cell_type": "code",
      "source": [
        "# convert model predictions to genre labels\n",
        "def to_labels(y_list):\n",
        "  Y_labels = [np.argmax(y, axis=None, out=None) for y in y_list]\n",
        "  Y_labels = encoder.inverse_transform(Y_labels)\n",
        "  return Y_labels\n",
        "\n",
        "Y_predicted = model.predict(test_sequences_matrix)\n",
        "Y_plabels = to_labels(Y_predicted)\n",
        "Y_plabels"
      ],
      "execution_count": 0,
      "outputs": [
        {
          "output_type": "execute_result",
          "data": {
            "text/plain": [
              "array(['FANTAST', 'FANTAST', 'RELIGION', 'TALES', 'FANTAST', 'FANTAST',\n",
              "       'FANTAST', 'RELIGION', 'FANTAST', 'RELIGION', 'RELIGION',\n",
              "       'FANTAST'], dtype=object)"
            ]
          },
          "metadata": {
            "tags": []
          },
          "execution_count": 113
        }
      ]
    },
    {
      "metadata": {
        "id": "Z2FX-z78m0fF",
        "colab_type": "code",
        "outputId": "d52b433f-8f6f-446b-c5ad-334da45b88c4",
        "colab": {
          "base_uri": "https://localhost:8080/",
          "height": 255
        }
      },
      "cell_type": "code",
      "source": [
        "print('Classification Report:')\n",
        "print(classification_report(Y_test, Y_plabels))"
      ],
      "execution_count": 0,
      "outputs": [
        {
          "output_type": "stream",
          "text": [
            "Classification Report:\n",
            "              precision    recall  f1-score   support\n",
            "\n",
            "      DETECT       0.00      0.00      0.00         2\n",
            "     FANTAST       0.43      1.00      0.60         3\n",
            "    RELIGION       0.75      0.75      0.75         4\n",
            "       TALES       0.00      0.00      0.00         3\n",
            "\n",
            "   micro avg       0.50      0.50      0.50        12\n",
            "   macro avg       0.29      0.44      0.34        12\n",
            "weighted avg       0.36      0.50      0.40        12\n",
            "\n"
          ],
          "name": "stdout"
        },
        {
          "output_type": "stream",
          "text": [
            "/usr/local/lib/python3.6/dist-packages/sklearn/metrics/classification.py:1143: UndefinedMetricWarning: Precision and F-score are ill-defined and being set to 0.0 in labels with no predicted samples.\n",
            "  'precision', 'predicted', average, warn_for)\n"
          ],
          "name": "stderr"
        }
      ]
    },
    {
      "metadata": {
        "id": "gJMpg7vJoMv9",
        "colab_type": "code",
        "outputId": "d05ed538-4769-4ec6-9b35-bd13dc63bd2a",
        "colab": {
          "base_uri": "https://localhost:8080/",
          "height": 311
        }
      },
      "cell_type": "code",
      "source": [
        "matrix = confusion_matrix(Y_test, Y_plabels)\n",
        "\n",
        "dataframe = pd.DataFrame(matrix, index=genres, columns=genres)\n",
        "\n",
        "sns.heatmap(dataframe, annot=True, cbar=None, cmap='Blues')\n",
        "plt.title('Confusion Matrix'), plt.tight_layout()\n",
        "plt.ylabel('True Class')\n",
        "plt.xlabel('Predicted Class')\n",
        "\n",
        "plt.show()\n"
      ],
      "execution_count": 0,
      "outputs": [
        {
          "output_type": "display_data",
          "data": {
            "image/png": "[encoded data removed]",
            "text/plain": [
              "<Figure size 432x288 with 1 Axes>"
            ]
          },
          "metadata": {
            "tags": []
          }
        }
      ]
    },
    {
      "metadata": {
        "id": "-2AI0js0MrDS",
        "colab_type": "text"
      },
      "cell_type": "markdown",
      "source": [
        "## Model without Embedding layer"
      ]
    },
    {
      "metadata": {
        "id": "f6cbjCQHM6Y7",
        "colab_type": "text"
      },
      "cell_type": "markdown",
      "source": [
        "### Using CountVectorizer"
      ]
    },
    {
      "metadata": {
        "id": "QAW07wEzM4gI",
        "colab_type": "code",
        "colab": {}
      },
      "cell_type": "code",
      "source": [
        "from sklearn.feature_extraction.text import CountVectorizer\n",
        "\n",
        "X = df.text.values\n",
        "Y = df['labels'].values"
      ],
      "execution_count": 0,
      "outputs": []
    },
    {
      "metadata": {
        "id": "h4cAM2zsOWM7",
        "colab_type": "code",
        "colab": {}
      },
      "cell_type": "code",
      "source": [
        "X_train, X_test, Y_train, Y_test = train_test_split(X, Y, test_size=0.2)\n",
        "\n",
        "# Encoding labels\n",
        "encoder = LabelEncoder()\n",
        "train_labels = encoder.fit_transform(Y_train)\n",
        "test_labels = encoder.fit_transform(Y_test)\n",
        "\n",
        "train_labels = to_categorical(train_labels)\n",
        "test_labels = to_categorical(test_labels)"
      ],
      "execution_count": 0,
      "outputs": []
    },
    {
      "metadata": {
        "id": "MO4XodbZPQXn",
        "colab_type": "code",
        "outputId": "17c77f6b-5aaa-47fd-b667-1555ffe7abf1",
        "colab": {
          "base_uri": "https://localhost:8080/",
          "height": 51
        }
      },
      "cell_type": "code",
      "source": [
        "vectorizer.fit(X_train)   # Fitting only train set\n",
        "\n",
        "X_train = vectorizer.transform(X_train)\n",
        "X_test  = vectorizer.transform(X_test)\n",
        "X_train"
      ],
      "execution_count": 0,
      "outputs": [
        {
          "output_type": "execute_result",
          "data": {
            "text/plain": [
              "<89x48024 sparse matrix of type '<class 'numpy.int64'>'\n",
              "\twith 380572 stored elements in Compressed Sparse Row format>"
            ]
          },
          "metadata": {
            "tags": []
          },
          "execution_count": 118
        }
      ]
    },
    {
      "metadata": {
        "id": "7rGCbZbiRhol",
        "colab_type": "code",
        "outputId": "810fb079-2f6c-41ea-9baf-3fa6770c97e3",
        "colab": {
          "base_uri": "https://localhost:8080/",
          "height": 34
        }
      },
      "cell_type": "code",
      "source": [
        "input_dim = X_train.shape[1]\n",
        "input_dim"
      ],
      "execution_count": 0,
      "outputs": [
        {
          "output_type": "execute_result",
          "data": {
            "text/plain": [
              "48024"
            ]
          },
          "metadata": {
            "tags": []
          },
          "execution_count": 119
        }
      ]
    },
    {
      "metadata": {
        "id": "Eh6UGX-DSEjF",
        "colab_type": "text"
      },
      "cell_type": "markdown",
      "source": [
        "### Dense Model"
      ]
    },
    {
      "metadata": {
        "id": "1S3iwzoGR-LI",
        "colab_type": "code",
        "colab": {}
      },
      "cell_type": "code",
      "source": [
        "model = Sequential()\n",
        "model.add(Dense(48, input_dim=input_dim, activation='relu'))\n",
        "model.add(Dense(24, activation='relu'))\n",
        "model.add(Dense(12, activation='relu'))\n",
        "model.add(Dense(4, activation='softmax'))\n",
        "\n",
        "model.compile(loss='categorical_crossentropy',\n",
        "              optimizer='rmsprop',\n",
        "              metrics=['accuracy'])"
      ],
      "execution_count": 0,
      "outputs": []
    },
    {
      "metadata": {
        "id": "B-6sisM_Sq4K",
        "colab_type": "code",
        "outputId": "e843b0ec-49b4-4851-81e0-ab7702037fb4",
        "colab": {
          "base_uri": "https://localhost:8080/",
          "height": 374
        }
      },
      "cell_type": "code",
      "source": [
        "hist = model.fit(X_train, train_labels,\n",
        "                 batch_size=20,\n",
        "                 epochs=10,\n",
        "                 #verbose=0,\n",
        "                 validation_split=0.1)"
      ],
      "execution_count": 0,
      "outputs": [
        {
          "output_type": "stream",
          "text": [
            "Train on 80 samples, validate on 9 samples\n",
            "Epoch 1/10\n",
            "80/80 [==============================] - 1s 19ms/step - loss: 9.2698 - acc: 0.2625 - val_loss: 10.7454 - val_acc: 0.3333\n",
            "Epoch 2/10\n",
            "80/80 [==============================] - 0s 2ms/step - loss: 7.7759 - acc: 0.2750 - val_loss: 9.9662 - val_acc: 0.3333\n",
            "Epoch 3/10\n",
            "80/80 [==============================] - 0s 2ms/step - loss: 8.3736 - acc: 0.4125 - val_loss: 6.5211 - val_acc: 0.4444\n",
            "Epoch 4/10\n",
            "80/80 [==============================] - 0s 2ms/step - loss: 5.3958 - acc: 0.4875 - val_loss: 10.7454 - val_acc: 0.3333\n",
            "Epoch 5/10\n",
            "80/80 [==============================] - 0s 2ms/step - loss: 7.1387 - acc: 0.4625 - val_loss: 1.4038 - val_acc: 0.8889\n",
            "Epoch 6/10\n",
            "80/80 [==============================] - 0s 2ms/step - loss: 3.1864 - acc: 0.7750 - val_loss: 1.2176 - val_acc: 0.6667\n",
            "Epoch 7/10\n",
            "80/80 [==============================] - 0s 2ms/step - loss: 3.2353 - acc: 0.6375 - val_loss: 8.9574 - val_acc: 0.4444\n",
            "Epoch 8/10\n",
            "80/80 [==============================] - 0s 2ms/step - loss: 2.4674 - acc: 0.7000 - val_loss: 0.9436 - val_acc: 0.7778\n",
            "Epoch 9/10\n",
            "80/80 [==============================] - 0s 2ms/step - loss: 0.2758 - acc: 0.9750 - val_loss: 0.6634 - val_acc: 0.7778\n",
            "Epoch 10/10\n",
            "80/80 [==============================] - 0s 2ms/step - loss: 0.2554 - acc: 0.9875 - val_loss: 0.5829 - val_acc: 0.8889\n"
          ],
          "name": "stdout"
        }
      ]
    },
    {
      "metadata": {
        "id": "9JUoxPnATB9C",
        "colab_type": "code",
        "outputId": "d70967e3-4c29-41e9-f1ed-dbf31644643a",
        "colab": {
          "base_uri": "https://localhost:8080/",
          "height": 51
        }
      },
      "cell_type": "code",
      "source": [
        "accr = model.evaluate(X_test, test_labels)\n",
        "print(accr)"
      ],
      "execution_count": 0,
      "outputs": [
        {
          "output_type": "stream",
          "text": [
            "\r23/23 [==============================] - 0s 746us/step\n",
            "[0.541500449180603, 0.9130434989929199]\n"
          ],
          "name": "stdout"
        }
      ]
    },
    {
      "metadata": {
        "id": "_Fc2lfYyTlLf",
        "colab_type": "code",
        "outputId": "dd6bf493-d012-4695-e67b-f5c48cd11729",
        "colab": {
          "base_uri": "https://localhost:8080/",
          "height": 85
        }
      },
      "cell_type": "code",
      "source": [
        "# convert model predictions to genre labels\n",
        "def to_labels(y_list):\n",
        "  Y_labels = [np.argmax(y, axis=None, out=None) for y in y_list]\n",
        "  Y_labels = encoder.inverse_transform(Y_labels)\n",
        "  return Y_labels\n",
        "\n",
        "Y_predicted = model.predict(X_test)\n",
        "Y_plabels = to_labels(Y_predicted)\n",
        "Y_plabels"
      ],
      "execution_count": 0,
      "outputs": [
        {
          "output_type": "execute_result",
          "data": {
            "text/plain": [
              "array(['DETECT', 'DETECT', 'DETECT', 'TALES', 'RELIGION', 'TALES',\n",
              "       'RELIGION', 'TALES', 'RELIGION', 'FANTAST', 'RELIGION', 'FANTAST',\n",
              "       'TALES', 'DETECT', 'RELIGION', 'FANTAST', 'FANTAST', 'FANTAST',\n",
              "       'TALES', 'RELIGION', 'TALES', 'FANTAST', 'FANTAST'], dtype=object)"
            ]
          },
          "metadata": {
            "tags": []
          },
          "execution_count": 123
        }
      ]
    },
    {
      "metadata": {
        "id": "rkPaN0RXT6MP",
        "colab_type": "code",
        "outputId": "b3a98525-3a71-4319-e352-a1a0c6f9286f",
        "colab": {
          "base_uri": "https://localhost:8080/",
          "height": 311
        }
      },
      "cell_type": "code",
      "source": [
        "matrix = confusion_matrix(Y_test, Y_plabels)\n",
        "\n",
        "dataframe = pd.DataFrame(matrix, index=genres, columns=genres)\n",
        "\n",
        "sns.heatmap(dataframe, annot=True, cbar=None, cmap='Blues')\n",
        "plt.title('Confusion Matrix'), plt.tight_layout()\n",
        "plt.ylabel('True Class')\n",
        "plt.xlabel('Predicted Class')\n",
        "\n",
        "plt.show()"
      ],
      "execution_count": 0,
      "outputs": [
        {
          "output_type": "display_data",
          "data": {
            "image/png": "[encoded data removed]",
            "text/plain": [
              "<Figure size 432x288 with 1 Axes>"
            ]
          },
          "metadata": {
            "tags": []
          }
        }
      ]
    },
    {
      "metadata": {
        "id": "0mjH2cImVX0S",
        "colab_type": "text"
      },
      "cell_type": "markdown",
      "source": [
        "Model has a trouble of distinguishing a Fantasy genre from Tales."
      ]
    }
  ]
}